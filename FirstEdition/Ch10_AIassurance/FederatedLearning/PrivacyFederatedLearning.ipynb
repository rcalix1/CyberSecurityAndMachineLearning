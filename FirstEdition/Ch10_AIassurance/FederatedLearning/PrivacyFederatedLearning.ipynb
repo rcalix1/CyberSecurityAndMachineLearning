{
 "cells": [
  {
   "cell_type": "markdown",
   "id": "cb19a992-688a-450f-bdec-fe15c5423e13",
   "metadata": {},
   "source": [
    "\n",
    "## Privacy and federated learning\n"
   ]
  },
  {
   "cell_type": "code",
   "execution_count": 1,
   "id": "1a6646b3-ff21-411f-825c-41b523e04aa4",
   "metadata": {},
   "outputs": [],
   "source": [
    "\n",
    "import numpy as np\n",
    "import torch\n",
    "import torch.nn as nn\n",
    "import torch.optim as optim\n"
   ]
  },
  {
   "cell_type": "code",
   "execution_count": 2,
   "id": "55c57057-7ed3-42a7-a560-ff8509ecfcde",
   "metadata": {},
   "outputs": [],
   "source": [
    "\n",
    "\n",
    "class SimpleModel(nn.Module):\n",
    "    \n",
    "    def __init__(self, input_dim, output_dim):\n",
    "        super(SimpleModel, self).__init__()\n",
    "        \n",
    "        self.net = nn.Linear(input_dim, output_dim)\n",
    "\n",
    "    def forward(self, x):\n",
    "        \n",
    "        return self.net(x)\n"
   ]
  },
  {
   "cell_type": "code",
   "execution_count": 3,
   "id": "e371f319-92a8-4bbb-a2f8-595c76113bc4",
   "metadata": {},
   "outputs": [],
   "source": [
    "\n",
    "\n",
    "def generate_client_data(n_clients, samples_per_client, input_dim):\n",
    "    clients_data = []\n",
    "    \n",
    "    for _ in range(n_clients):\n",
    "\n",
    "        data   = np.random.randn( samples_per_client, input_dim )\n",
    "        \n",
    "        labels = ( data.sum(axis=1) > 0).astype(int)  \n",
    "        \n",
    "        clients_data.append( \n",
    "                 ( torch.tensor(data,   dtype=torch.float32),\n",
    "                   torch.tensor(labels, dtype=torch.long   )      ) \n",
    "        )\n",
    "    return clients_data\n"
   ]
  },
  {
   "cell_type": "code",
   "execution_count": 4,
   "id": "449dc4f2-96cb-4acb-8cb1-f4f029d23b0d",
   "metadata": {},
   "outputs": [],
   "source": [
    "\n",
    "\n",
    "def train_local_model(model, xs, ys, epochs, lr):\n",
    "    \n",
    "    optimizer = optim.SGD(model.parameters(), lr=lr)\n",
    "    criterion = nn.CrossEntropyLoss()\n",
    "    \n",
    "    for i in range(epochs):\n",
    "        \n",
    "        optimizer.zero_grad()\n",
    "        outputs = model(xs)\n",
    "        loss    = criterion(outputs, ys)\n",
    "        loss.backward()\n",
    "        optimizer.step()\n",
    "        \n",
    "    return model.state_dict()  \n"
   ]
  },
  {
   "cell_type": "code",
   "execution_count": 5,
   "id": "7a6bd573-e385-4aad-bb7f-5366126ea832",
   "metadata": {},
   "outputs": [],
   "source": [
    "\n",
    "def mean_models_add_noise(global_model, client_updates, noise_scale=0.1):\n",
    "    \n",
    "    global_state = global_model.state_dict()\n",
    "    \n",
    "    for item in global_state:\n",
    "        \n",
    "        updates           = torch.stack( [ c_update[item] for c_update in client_updates] )\n",
    "        global_state[item] = updates.mean(dim=0) + torch.normal(0, noise_scale, size=global_state[item].shape)\n",
    "        \n",
    "    global_model.load_state_dict( global_state)\n"
   ]
  },
  {
   "cell_type": "code",
   "execution_count": 6,
   "id": "d0acf784-f2d9-4087-b5cc-9e7719b1a24a",
   "metadata": {},
   "outputs": [],
   "source": [
    "\n",
    "\n",
    "def federated_learning(num_clients, rounds, input_dim, output_dim, samples_per_client):\n",
    "\n",
    "    global_model = SimpleModel(input_dim, output_dim)\n",
    "    \n",
    "    client_data  = generate_client_data(num_clients, samples_per_client, input_dim)\n",
    "\n",
    "    for round in range(rounds):\n",
    "        \n",
    "        print(f\"Simulation {round + 1}\")\n",
    "        client_updates = []\n",
    "\n",
    "        for client_id, (data, labels) in enumerate(client_data):\n",
    "            \n",
    "            local_model = SimpleModel(input_dim, output_dim)\n",
    "            \n",
    "            local_model.load_state_dict( global_model.state_dict() )  # init with global model\n",
    "            \n",
    "            local_update = train_local_model(local_model, data, labels, epochs=1, lr=0.01)\n",
    "            \n",
    "            client_updates.append(local_update)\n",
    "\n",
    "\n",
    "        mean_models_add_noise( global_model, client_updates, noise_scale=0.1 )\n",
    "\n",
    "\n",
    "        test_data, ys = generate_client_data(1, 100, input_dim)[0]\n",
    "        \n",
    "        with torch.no_grad():\n",
    "            preds = global_model(test_data).argmax(dim=1)\n",
    "            accuracy    = (preds == ys).float().mean().item()\n",
    "            \n",
    "        print(f\"Global Model performance Accuracy: {accuracy:.2%}\")\n"
   ]
  },
  {
   "cell_type": "code",
   "execution_count": 7,
   "id": "1130e7f9-cd74-4d80-a9c7-a540f9d67753",
   "metadata": {},
   "outputs": [
    {
     "name": "stdout",
     "output_type": "stream",
     "text": [
      "Simulation 1\n",
      "Global Model performance Accuracy: 38.00%\n",
      "Simulation 2\n",
      "Global Model performance Accuracy: 40.00%\n",
      "Simulation 3\n",
      "Global Model performance Accuracy: 47.00%\n",
      "Simulation 4\n",
      "Global Model performance Accuracy: 47.00%\n",
      "Simulation 5\n",
      "Global Model performance Accuracy: 41.00%\n",
      "Simulation 6\n",
      "Global Model performance Accuracy: 50.00%\n",
      "Simulation 7\n",
      "Global Model performance Accuracy: 52.00%\n",
      "Simulation 8\n",
      "Global Model performance Accuracy: 60.00%\n",
      "Simulation 9\n",
      "Global Model performance Accuracy: 47.00%\n",
      "Simulation 10\n",
      "Global Model performance Accuracy: 46.00%\n",
      "Simulation 11\n",
      "Global Model performance Accuracy: 45.00%\n",
      "Simulation 12\n",
      "Global Model performance Accuracy: 55.00%\n",
      "Simulation 13\n",
      "Global Model performance Accuracy: 43.00%\n",
      "Simulation 14\n",
      "Global Model performance Accuracy: 38.00%\n",
      "Simulation 15\n",
      "Global Model performance Accuracy: 51.00%\n"
     ]
    }
   ],
   "source": [
    "\n",
    "\n",
    "num_clients        = 7\n",
    "simulations        = 15\n",
    "input_dim          = 12\n",
    "output_dim         = 2\n",
    "samples_per_each_client = 90\n",
    "\n",
    "federated_learning(num_clients, simulations, input_dim, output_dim, samples_per_each_client)\n"
   ]
  },
  {
   "cell_type": "code",
   "execution_count": null,
   "id": "bafc9f36-9f7a-49cc-ae3d-370694095792",
   "metadata": {},
   "outputs": [],
   "source": []
  },
  {
   "cell_type": "code",
   "execution_count": null,
   "id": "553b2c5f-7a72-4ca0-b42b-d8cf60da6e6a",
   "metadata": {},
   "outputs": [],
   "source": []
  },
  {
   "cell_type": "code",
   "execution_count": null,
   "id": "1c688429-48c3-45d2-b869-22144c65e026",
   "metadata": {},
   "outputs": [],
   "source": []
  },
  {
   "cell_type": "code",
   "execution_count": null,
   "id": "63f4fbb9-1ca2-4e80-ace9-84ec707be86c",
   "metadata": {},
   "outputs": [],
   "source": []
  },
  {
   "cell_type": "code",
   "execution_count": null,
   "id": "3efa5954-43b5-4818-b4bd-9c8b512ffb62",
   "metadata": {},
   "outputs": [],
   "source": []
  },
  {
   "cell_type": "code",
   "execution_count": null,
   "id": "948d74e7-d33a-4a48-a8f6-5cbb4c2af1f5",
   "metadata": {},
   "outputs": [],
   "source": []
  },
  {
   "cell_type": "code",
   "execution_count": null,
   "id": "3c66ca7a-f725-472c-b2d4-45a8396e3460",
   "metadata": {},
   "outputs": [],
   "source": []
  },
  {
   "cell_type": "code",
   "execution_count": null,
   "id": "f29d1a25-1b53-4491-8e6c-e3fbb42496be",
   "metadata": {},
   "outputs": [],
   "source": []
  },
  {
   "cell_type": "code",
   "execution_count": null,
   "id": "fee0b0a0-6b1a-4211-ac96-648f4e38a787",
   "metadata": {},
   "outputs": [],
   "source": []
  },
  {
   "cell_type": "code",
   "execution_count": null,
   "id": "1617284a-6e3d-4f1e-b29c-162fd4607c4f",
   "metadata": {},
   "outputs": [],
   "source": []
  },
  {
   "cell_type": "code",
   "execution_count": null,
   "id": "f0c74135-a6cb-4f3f-a972-3370dba7b0ec",
   "metadata": {},
   "outputs": [],
   "source": []
  }
 ],
 "metadata": {
  "kernelspec": {
   "display_name": "Python 3 (ipykernel)",
   "language": "python",
   "name": "python3"
  },
  "language_info": {
   "codemirror_mode": {
    "name": "ipython",
    "version": 3
   },
   "file_extension": ".py",
   "mimetype": "text/x-python",
   "name": "python",
   "nbconvert_exporter": "python",
   "pygments_lexer": "ipython3",
   "version": "3.8.20"
  }
 },
 "nbformat": 4,
 "nbformat_minor": 5
}
