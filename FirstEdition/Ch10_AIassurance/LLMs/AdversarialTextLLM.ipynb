{
 "cells": [
  {
   "cell_type": "markdown",
   "id": "843d02ce-000d-40c6-80bb-583654ac3d7b",
   "metadata": {},
   "source": [
    "\n",
    "## Create adversarial embeddings for text\n"
   ]
  },
  {
   "cell_type": "code",
   "execution_count": 1,
   "id": "9a84fda8-2856-4eff-b6dc-715c44b04f07",
   "metadata": {},
   "outputs": [],
   "source": [
    "\n",
    "import torch\n",
    "from transformers import pipeline, AutoModelForSequenceClassification, AutoTokenizer\n",
    "\n",
    "import torch.nn as nn\n",
    "\n"
   ]
  },
  {
   "cell_type": "markdown",
   "id": "cedf3c37-eb5c-4c7f-a02b-c62f40122308",
   "metadata": {},
   "source": [
    "\n",
    "## Basic idea\n"
   ]
  },
  {
   "cell_type": "code",
   "execution_count": 2,
   "id": "eb93f076-5a7f-497b-b767-b34550a4b8f8",
   "metadata": {},
   "outputs": [],
   "source": [
    "\n",
    "\n",
    "# Create an embedding layer\n",
    "embedding = nn.Embedding(1000, 100)\n",
    "\n",
    "# Modify the weights of the embedding layer\n",
    "new_weights = torch.randn(1000, 100)\n",
    "embedding.weight.data = new_weights\n",
    "\n",
    "# Access the embedding for a specific index\n",
    "index = torch.LongTensor([1])\n",
    "embedding_vector = embedding(index)\n"
   ]
  },
  {
   "cell_type": "markdown",
   "id": "cf4224ec-cefb-41b8-97b4-ec8767f50714",
   "metadata": {},
   "source": [
    "\n",
    "## LLM\n"
   ]
  },
  {
   "cell_type": "code",
   "execution_count": 3,
   "id": "34565277-b4c6-414d-8dbd-d12096b49896",
   "metadata": {},
   "outputs": [],
   "source": [
    "\n",
    "\n",
    "model_name = \"distilbert-base-uncased-finetuned-sst-2-english\"  \n",
    "model = AutoModelForSequenceClassification.from_pretrained(model_name)\n",
    "tokenizer = AutoTokenizer.from_pretrained(model_name)\n",
    "\n",
    "# Define the original input text\n",
    "original_text = \"I really like the movie.\"\n"
   ]
  },
  {
   "cell_type": "code",
   "execution_count": 4,
   "id": "e5ea30c1-56bf-4160-9adf-09aa86357415",
   "metadata": {},
   "outputs": [],
   "source": [
    "\n",
    "\n",
    "inputs = tokenizer(original_text, return_tensors=\"pt\", padding=True, truncation=True)\n",
    "input_ids      = inputs[\"input_ids\"]\n",
    "attention_mask = inputs[\"attention_mask\"]\n",
    "    \n",
    " "
   ]
  },
  {
   "cell_type": "code",
   "execution_count": 5,
   "id": "f9994d80-0f95-47c4-b305-ed7c7f5d4830",
   "metadata": {},
   "outputs": [
    {
     "data": {
      "text/plain": [
       "tensor([[-4.1794,  4.4663]], grad_fn=<AddmmBackward0>)"
      ]
     },
     "execution_count": 5,
     "metadata": {},
     "output_type": "execute_result"
    }
   ],
   "source": [
    "\n",
    "outputs = model(input_ids=input_ids, attention_mask=attention_mask)\n",
    "logits = outputs.logits\n",
    "predicted_class = torch.argmax(logits, dim=-1).item()\n",
    "logits\n"
   ]
  },
  {
   "cell_type": "code",
   "execution_count": 6,
   "id": "f8276905-f130-4307-b84f-2587358b0963",
   "metadata": {},
   "outputs": [
    {
     "data": {
      "text/plain": [
       "1"
      ]
     },
     "execution_count": 6,
     "metadata": {},
     "output_type": "execute_result"
    }
   ],
   "source": [
    "\n",
    "predicted_class\n"
   ]
  },
  {
   "cell_type": "markdown",
   "id": "1b2a0def-4b56-457e-8848-a2ab70f671da",
   "metadata": {},
   "source": [
    "\n",
    "## Get and modify embeddings\n"
   ]
  },
  {
   "cell_type": "code",
   "execution_count": 7,
   "id": "d0616dff-e860-4d07-96b4-bb08abfb4e7a",
   "metadata": {},
   "outputs": [
    {
     "data": {
      "text/plain": [
       "Embedding(30522, 768, padding_idx=0)"
      ]
     },
     "execution_count": 7,
     "metadata": {},
     "output_type": "execute_result"
    }
   ],
   "source": [
    "\n",
    "embedding_layer    = model.get_input_embeddings()\n",
    "embedding_layer\n"
   ]
  },
  {
   "cell_type": "code",
   "execution_count": 8,
   "id": "eeeadbf1-ce9b-438f-804a-c119879ae689",
   "metadata": {},
   "outputs": [
    {
     "data": {
      "text/plain": [
       "torch.Size([1, 8, 768])"
      ]
     },
     "execution_count": 8,
     "metadata": {},
     "output_type": "execute_result"
    }
   ],
   "source": [
    "\n",
    "original_embeddings = embedding_layer(input_ids)\n",
    "original_embeddings.shape\n"
   ]
  },
  {
   "cell_type": "code",
   "execution_count": 9,
   "id": "f74f6cbf-373c-438e-a5a1-e2f35380a6c9",
   "metadata": {},
   "outputs": [
    {
     "name": "stdout",
     "output_type": "stream",
     "text": [
      "torch.Size([30522, 768])\n",
      "torch.Size([30522, 768])\n"
     ]
    }
   ],
   "source": [
    "\n",
    "embeddings_tr = embedding_layer.weight.data\n",
    "print( embedding_layer.weight.data.shape )\n",
    "print( embeddings_tr.shape )\n"
   ]
  },
  {
   "cell_type": "code",
   "execution_count": 10,
   "id": "60ecf32b-afc2-4017-9a28-bcaa8c4639a1",
   "metadata": {},
   "outputs": [],
   "source": [
    "\n",
    "epsilon = 0.1    ## try with 0\n",
    "\n",
    "perturbation = epsilon * torch.randn_like(embeddings_tr)\n",
    "adversarial_embeddings = embeddings_tr  + perturbation\n"
   ]
  },
  {
   "cell_type": "code",
   "execution_count": 11,
   "id": "5b3d2b38-6847-4321-ac8f-a6cefda2cc4c",
   "metadata": {},
   "outputs": [
    {
     "data": {
      "text/plain": [
       "torch.Size([30522, 768])"
      ]
     },
     "execution_count": 11,
     "metadata": {},
     "output_type": "execute_result"
    }
   ],
   "source": [
    "\n",
    "embedding_layer.weight.data = adversarial_embeddings\n",
    "\n",
    "embedding_layer.weight.data.shape\n"
   ]
  },
  {
   "cell_type": "code",
   "execution_count": 12,
   "id": "9b023bce-9fb4-4ee7-a0fc-315ce40ffa41",
   "metadata": {},
   "outputs": [
    {
     "data": {
      "text/plain": [
       "Embedding(30522, 768, padding_idx=0)"
      ]
     },
     "execution_count": 12,
     "metadata": {},
     "output_type": "execute_result"
    }
   ],
   "source": [
    "\n",
    "embedding_layer\n"
   ]
  },
  {
   "cell_type": "code",
   "execution_count": null,
   "id": "f7ab8671-95c1-42fb-9b43-0445b6a9818c",
   "metadata": {},
   "outputs": [],
   "source": []
  },
  {
   "cell_type": "markdown",
   "id": "8d2c819e-558a-41fb-8c6c-7837f10e9834",
   "metadata": {},
   "source": [
    "\n",
    "## View adversarial embeddings\n"
   ]
  },
  {
   "cell_type": "code",
   "execution_count": 13,
   "id": "2e7a0951-8b81-42ca-95b8-2cd1c73ebcf7",
   "metadata": {},
   "outputs": [],
   "source": [
    "\n",
    "model.set_input_embeddings(embedding_layer)\n"
   ]
  },
  {
   "cell_type": "code",
   "execution_count": 14,
   "id": "33df85c1-4b98-4c6e-a8cf-b68f97e56bab",
   "metadata": {},
   "outputs": [
    {
     "data": {
      "text/plain": [
       "tensor([[ 2.7225, -2.2167]], grad_fn=<AddmmBackward0>)"
      ]
     },
     "execution_count": 14,
     "metadata": {},
     "output_type": "execute_result"
    }
   ],
   "source": [
    "\n",
    "outputs = model(input_ids=input_ids, attention_mask=attention_mask)\n",
    "logits = outputs.logits\n",
    "predicted_class = torch.argmax(logits, dim=-1).item()\n",
    "logits\n"
   ]
  },
  {
   "cell_type": "code",
   "execution_count": 15,
   "id": "81add4df-0cd5-425e-89b6-69b2fed7d336",
   "metadata": {},
   "outputs": [
    {
     "data": {
      "text/plain": [
       "0"
      ]
     },
     "execution_count": 15,
     "metadata": {},
     "output_type": "execute_result"
    }
   ],
   "source": [
    "\n",
    "predicted_class\n"
   ]
  },
  {
   "cell_type": "code",
   "execution_count": null,
   "id": "4fbd3df8-ca49-43ad-b5c5-61c9bc49572e",
   "metadata": {},
   "outputs": [],
   "source": []
  },
  {
   "cell_type": "code",
   "execution_count": null,
   "id": "9fdbd123-534e-4985-a244-e4951b109cca",
   "metadata": {},
   "outputs": [],
   "source": []
  },
  {
   "cell_type": "code",
   "execution_count": null,
   "id": "f2106669-6f35-4cce-877f-8720ebe4e9f4",
   "metadata": {},
   "outputs": [],
   "source": []
  },
  {
   "cell_type": "code",
   "execution_count": null,
   "id": "d4708664-6e16-492c-bd61-18bedf49c9ea",
   "metadata": {},
   "outputs": [],
   "source": []
  },
  {
   "cell_type": "code",
   "execution_count": null,
   "id": "fd0bc404-1d87-459b-89d1-58bedf3b2a3b",
   "metadata": {},
   "outputs": [],
   "source": []
  },
  {
   "cell_type": "code",
   "execution_count": null,
   "id": "4833191b-cd1a-4557-a89b-0e3f24c7d5b2",
   "metadata": {},
   "outputs": [],
   "source": []
  },
  {
   "cell_type": "code",
   "execution_count": null,
   "id": "23572971-1b6e-4b1c-9a54-023037680443",
   "metadata": {},
   "outputs": [],
   "source": []
  },
  {
   "cell_type": "code",
   "execution_count": null,
   "id": "5ac3a7de-16e4-40c9-aaf3-824265f226d5",
   "metadata": {},
   "outputs": [],
   "source": []
  },
  {
   "cell_type": "code",
   "execution_count": null,
   "id": "cc524819-25bf-4294-9194-809b238c57bd",
   "metadata": {},
   "outputs": [],
   "source": []
  },
  {
   "cell_type": "code",
   "execution_count": null,
   "id": "5da599ff-dc92-4873-8c39-353d4949a406",
   "metadata": {},
   "outputs": [],
   "source": []
  }
 ],
 "metadata": {
  "kernelspec": {
   "display_name": "Python 3 (ipykernel)",
   "language": "python",
   "name": "python3"
  },
  "language_info": {
   "codemirror_mode": {
    "name": "ipython",
    "version": 3
   },
   "file_extension": ".py",
   "mimetype": "text/x-python",
   "name": "python",
   "nbconvert_exporter": "python",
   "pygments_lexer": "ipython3",
   "version": "3.8.20"
  }
 },
 "nbformat": 4,
 "nbformat_minor": 5
}
