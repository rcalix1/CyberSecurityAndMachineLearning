{
 "cells": [
  {
   "cell_type": "markdown",
   "id": "f5cef634-f99d-4745-ae7a-87a7cd5e3798",
   "metadata": {},
   "source": [
    "\n",
    "## Conditional entropy \n",
    "\n",
    "* H( classes| feature )\n"
   ]
  },
  {
   "cell_type": "code",
   "execution_count": 1,
   "id": "9f054d92-d0f2-452b-9ebf-6e133f2b74f0",
   "metadata": {},
   "outputs": [],
   "source": [
    "\n",
    "import numpy as np\n"
   ]
  },
  {
   "cell_type": "markdown",
   "id": "56af2c79-4454-4277-ba20-5c23c514a940",
   "metadata": {},
   "source": [
    "\n",
    "## Example 1 - High conditional uncertainty\n"
   ]
  },
  {
   "cell_type": "code",
   "execution_count": 2,
   "id": "acb0363d-1b4d-4aa1-ba79-294788de698a",
   "metadata": {},
   "outputs": [],
   "source": [
    "\n",
    "features = [\"f1\", \"f1\", \"f1\", \"f1\", \"f1\", \"f1\"]\n",
    "classes  = [\"c1\", \"c2\", \"c3\", \"c4\", \"c5\", \"c6\"]\n"
   ]
  },
  {
   "cell_type": "code",
   "execution_count": 3,
   "id": "d52c3001-05bf-4349-8497-733b642656be",
   "metadata": {},
   "outputs": [
    {
     "name": "stdout",
     "output_type": "stream",
     "text": [
      "{('f1', 'c1'): 1, ('f1', 'c2'): 1, ('f1', 'c3'): 1, ('f1', 'c4'): 1, ('f1', 'c5'): 1, ('f1', 'c6'): 1}\n",
      "{('f1', 'c1'): 0.16666666666666666, ('f1', 'c2'): 0.16666666666666666, ('f1', 'c3'): 0.16666666666666666, ('f1', 'c4'): 0.16666666666666666, ('f1', 'c5'): 0.16666666666666666, ('f1', 'c6'): 0.16666666666666666}\n"
     ]
    }
   ],
   "source": [
    "\n",
    "joint_probs = {}\n",
    "\n",
    "for feature,the_class in zip( features, classes ):\n",
    "    joint_probs[ (feature, the_class) ] = joint_probs.get((feature, the_class), 0) + 1\n",
    "\n",
    "print( joint_probs )\n",
    "\n",
    "joint_probs = {k: v / len(classes) for k, v in joint_probs.items()}\n",
    "print( joint_probs )\n",
    "\n"
   ]
  },
  {
   "cell_type": "code",
   "execution_count": 4,
   "id": "0244d513-ef7d-4484-960e-e53fb01213aa",
   "metadata": {},
   "outputs": [
    {
     "name": "stdout",
     "output_type": "stream",
     "text": [
      "{'f1': 6}\n",
      "{'f1': 1.0}\n"
     ]
    }
   ],
   "source": [
    "\n",
    "marginal_probs = {}\n",
    "\n",
    "for feature in features:\n",
    "    marginal_probs[feature] = marginal_probs.get(feature, 0) + 1\n",
    "\n",
    "print( marginal_probs )\n",
    "\n",
    "marginal_probs = {k: v / len(features) for k, v in marginal_probs.items()}\n",
    "print( marginal_probs )\n"
   ]
  },
  {
   "cell_type": "code",
   "execution_count": 5,
   "id": "7e1c1bad-79b9-4b86-8925-9992b387ac11",
   "metadata": {},
   "outputs": [
    {
     "name": "stdout",
     "output_type": "stream",
     "text": [
      "2.584962500721156\n"
     ]
    }
   ],
   "source": [
    "\n",
    "conditional_entropy = 0\n",
    "\n",
    "for (feature, the_class), p_joint in joint_probs.items():\n",
    "    conditional_entropy = conditional_entropy - p_joint * np.log2(p_joint / marginal_probs[feature])\n",
    "\n",
    "print( conditional_entropy )\n",
    "\n",
    "\n"
   ]
  },
  {
   "cell_type": "code",
   "execution_count": 6,
   "id": "c1d8b928-4caa-440c-875b-0bea39e46238",
   "metadata": {},
   "outputs": [
    {
     "name": "stdout",
     "output_type": "stream",
     "text": [
      "{'c1': 1, 'c2': 1, 'c3': 1, 'c4': 1, 'c5': 1, 'c6': 1}\n",
      "{'c1': 0.16666666666666666, 'c2': 0.16666666666666666, 'c3': 0.16666666666666666, 'c4': 0.16666666666666666, 'c5': 0.16666666666666666, 'c6': 0.16666666666666666}\n",
      "2.584962500721156\n"
     ]
    }
   ],
   "source": [
    "\n",
    "outputs_probs = {}\n",
    "\n",
    "for item in classes:\n",
    "    outputs_probs[item] = outputs_probs.get(item, 0) + 1\n",
    "\n",
    "print( outputs_probs )\n",
    "\n",
    "outputs_probs = {k: v / len( classes ) for k, v in outputs_probs.items()}\n",
    "print( outputs_probs  )\n",
    "\n",
    "outputs_only_entropy = -np.sum( [ p * np.log2(p) for k,p in outputs_probs.items() ]  )\n",
    "print( outputs_only_entropy )\n"
   ]
  },
  {
   "cell_type": "code",
   "execution_count": null,
   "id": "2c884b51-8970-4795-b9d5-a25c831faa2d",
   "metadata": {},
   "outputs": [],
   "source": []
  },
  {
   "cell_type": "markdown",
   "id": "0b3148b0-5220-484e-974f-20e45842aa97",
   "metadata": {},
   "source": [
    "\n",
    "## Example 2 - Medium conditional uncertainty \n"
   ]
  },
  {
   "cell_type": "code",
   "execution_count": 7,
   "id": "716c383f-93b2-460a-9a51-f21608aae7ee",
   "metadata": {},
   "outputs": [],
   "source": [
    "\n",
    "features = [\"f1\", \"f1\", \"f1\", \"f2\", \"f2\", \"f2\"]\n",
    "classes  = [\"c1\", \"c2\", \"c3\", \"c4\", \"c5\", \"c6\"]\n"
   ]
  },
  {
   "cell_type": "code",
   "execution_count": 8,
   "id": "6d41f5ec-8e7c-4982-9cd8-538bdc115982",
   "metadata": {},
   "outputs": [
    {
     "name": "stdout",
     "output_type": "stream",
     "text": [
      "{('f1', 'c1'): 1, ('f1', 'c2'): 1, ('f1', 'c3'): 1, ('f2', 'c4'): 1, ('f2', 'c5'): 1, ('f2', 'c6'): 1}\n",
      "{('f1', 'c1'): 0.16666666666666666, ('f1', 'c2'): 0.16666666666666666, ('f1', 'c3'): 0.16666666666666666, ('f2', 'c4'): 0.16666666666666666, ('f2', 'c5'): 0.16666666666666666, ('f2', 'c6'): 0.16666666666666666}\n"
     ]
    }
   ],
   "source": [
    "\n",
    "joint_probs = {}\n",
    "\n",
    "for feature,the_class in zip( features, classes ):\n",
    "    joint_probs[ (feature, the_class) ] = joint_probs.get((feature, the_class), 0) + 1\n",
    "\n",
    "print( joint_probs )\n",
    "\n",
    "joint_probs = {k: v / len(classes) for k, v in joint_probs.items()}\n",
    "print( joint_probs )\n"
   ]
  },
  {
   "cell_type": "code",
   "execution_count": 9,
   "id": "cc81f514-4e07-4ee5-8317-3bc6f58b1bc5",
   "metadata": {},
   "outputs": [
    {
     "name": "stdout",
     "output_type": "stream",
     "text": [
      "{'f1': 3, 'f2': 3}\n",
      "{'f1': 0.5, 'f2': 0.5}\n"
     ]
    }
   ],
   "source": [
    "\n",
    "marginal_probs = {}\n",
    "\n",
    "for feature in features:\n",
    "    marginal_probs[feature] = marginal_probs.get(feature, 0) + 1\n",
    "\n",
    "print( marginal_probs )\n",
    "\n",
    "marginal_probs = {k: v / len(features) for k, v in marginal_probs.items()}\n",
    "print( marginal_probs )\n"
   ]
  },
  {
   "cell_type": "code",
   "execution_count": 10,
   "id": "6e6d35ca-c435-4e24-82de-f3610d86bef5",
   "metadata": {},
   "outputs": [
    {
     "name": "stdout",
     "output_type": "stream",
     "text": [
      "1.5849625007211563\n"
     ]
    }
   ],
   "source": [
    "\n",
    "conditional_entropy = 0\n",
    "\n",
    "for (feature, the_class), p_joint in joint_probs.items():\n",
    "    conditional_entropy = conditional_entropy - p_joint * np.log2(p_joint / marginal_probs[feature])\n",
    "\n",
    "print( conditional_entropy )\n"
   ]
  },
  {
   "cell_type": "code",
   "execution_count": 11,
   "id": "8ad3f3b0-7109-4df4-a9b2-f2deb01e859a",
   "metadata": {},
   "outputs": [
    {
     "name": "stdout",
     "output_type": "stream",
     "text": [
      "{'c1': 1, 'c2': 1, 'c3': 1, 'c4': 1, 'c5': 1, 'c6': 1}\n",
      "{'c1': 0.16666666666666666, 'c2': 0.16666666666666666, 'c3': 0.16666666666666666, 'c4': 0.16666666666666666, 'c5': 0.16666666666666666, 'c6': 0.16666666666666666}\n",
      "2.584962500721156\n"
     ]
    }
   ],
   "source": [
    "\n",
    "outputs_probs = {}\n",
    "\n",
    "for item in classes:\n",
    "    outputs_probs[item] = outputs_probs.get(item, 0) + 1\n",
    "\n",
    "print( outputs_probs )\n",
    "\n",
    "outputs_probs = {k: v / len( classes ) for k, v in outputs_probs.items()}\n",
    "print( outputs_probs  )\n",
    "\n",
    "outputs_only_entropy = -np.sum( [ p * np.log2(p) for k,p in outputs_probs.items() ]  )\n",
    "print( outputs_only_entropy )\n"
   ]
  },
  {
   "cell_type": "markdown",
   "id": "b2a5bf82-024c-4ec7-8b32-6dd3b78eaf99",
   "metadata": {},
   "source": [
    "\n",
    "## Example 3 - Low conditional uncertainty\n"
   ]
  },
  {
   "cell_type": "code",
   "execution_count": 12,
   "id": "75dda02c-840f-40db-8a1b-dbad0a5122c0",
   "metadata": {},
   "outputs": [],
   "source": [
    "\n",
    "features = [\"f1\", \"f2\", \"f3\", \"f4\", \"f5\", \"f6\"]\n",
    "classes  = [\"c1\", \"c2\", \"c3\", \"c4\", \"c5\", \"c6\"]\n"
   ]
  },
  {
   "cell_type": "code",
   "execution_count": 13,
   "id": "c7c2dfc7-d993-40cd-905f-600d3453c837",
   "metadata": {},
   "outputs": [
    {
     "name": "stdout",
     "output_type": "stream",
     "text": [
      "{('f1', 'c1'): 1, ('f2', 'c2'): 1, ('f3', 'c3'): 1, ('f4', 'c4'): 1, ('f5', 'c5'): 1, ('f6', 'c6'): 1}\n",
      "{('f1', 'c1'): 0.16666666666666666, ('f2', 'c2'): 0.16666666666666666, ('f3', 'c3'): 0.16666666666666666, ('f4', 'c4'): 0.16666666666666666, ('f5', 'c5'): 0.16666666666666666, ('f6', 'c6'): 0.16666666666666666}\n"
     ]
    }
   ],
   "source": [
    "\n",
    "joint_probs = {}\n",
    "\n",
    "for feature,the_class in zip( features, classes ):\n",
    "    joint_probs[ (feature, the_class) ] = joint_probs.get((feature, the_class), 0) + 1\n",
    "\n",
    "print( joint_probs )\n",
    "\n",
    "joint_probs = {k: v / len(classes) for k, v in joint_probs.items()}\n",
    "print( joint_probs )\n"
   ]
  },
  {
   "cell_type": "code",
   "execution_count": 14,
   "id": "90f3717e-e883-4b28-ab7e-863f2ec8caeb",
   "metadata": {},
   "outputs": [
    {
     "name": "stdout",
     "output_type": "stream",
     "text": [
      "{'f1': 1, 'f2': 1, 'f3': 1, 'f4': 1, 'f5': 1, 'f6': 1}\n",
      "{'f1': 0.16666666666666666, 'f2': 0.16666666666666666, 'f3': 0.16666666666666666, 'f4': 0.16666666666666666, 'f5': 0.16666666666666666, 'f6': 0.16666666666666666}\n"
     ]
    }
   ],
   "source": [
    "\n",
    "marginal_probs = {}\n",
    "\n",
    "for feature in features:\n",
    "    marginal_probs[feature] = marginal_probs.get(feature, 0) + 1\n",
    "\n",
    "print( marginal_probs )\n",
    "\n",
    "marginal_probs = {k: v / len(features) for k, v in marginal_probs.items()}\n",
    "print( marginal_probs )\n"
   ]
  },
  {
   "cell_type": "code",
   "execution_count": 15,
   "id": "4314ddae-9ce8-404a-aca5-ab682190f5bc",
   "metadata": {},
   "outputs": [
    {
     "name": "stdout",
     "output_type": "stream",
     "text": [
      "0.0\n"
     ]
    }
   ],
   "source": [
    "\n",
    "\n",
    "conditional_entropy = 0\n",
    "\n",
    "for (feature, the_class), p_joint in joint_probs.items():\n",
    "    conditional_entropy = conditional_entropy - p_joint * np.log2(p_joint / marginal_probs[feature])\n",
    "\n",
    "print( conditional_entropy )\n"
   ]
  },
  {
   "cell_type": "code",
   "execution_count": 16,
   "id": "cb7e1b5b-c9c3-4029-8fa4-5539402e3fe2",
   "metadata": {},
   "outputs": [
    {
     "name": "stdout",
     "output_type": "stream",
     "text": [
      "{'c1': 1, 'c2': 1, 'c3': 1, 'c4': 1, 'c5': 1, 'c6': 1}\n",
      "{'c1': 0.16666666666666666, 'c2': 0.16666666666666666, 'c3': 0.16666666666666666, 'c4': 0.16666666666666666, 'c5': 0.16666666666666666, 'c6': 0.16666666666666666}\n",
      "2.584962500721156\n"
     ]
    }
   ],
   "source": [
    "\n",
    "outputs_probs = {}\n",
    "\n",
    "for item in classes:\n",
    "    outputs_probs[item] = outputs_probs.get(item, 0) + 1\n",
    "\n",
    "print( outputs_probs )\n",
    "\n",
    "outputs_probs = {k: v / len( classes ) for k, v in outputs_probs.items()}\n",
    "print( outputs_probs  )\n",
    "\n",
    "outputs_only_entropy = -np.sum( [ p * np.log2(p) for k,p in outputs_probs.items() ]  )\n",
    "print( outputs_only_entropy )\n"
   ]
  },
  {
   "cell_type": "code",
   "execution_count": null,
   "id": "580dbf96-1965-4b3d-97c4-b68dc596ecbe",
   "metadata": {},
   "outputs": [],
   "source": []
  },
  {
   "cell_type": "code",
   "execution_count": null,
   "id": "611bbc3a-9ff7-46ab-ad8f-81ccf6b5cd91",
   "metadata": {},
   "outputs": [],
   "source": []
  },
  {
   "cell_type": "code",
   "execution_count": null,
   "id": "addcaaa9-c94f-408a-863c-895391dc83a9",
   "metadata": {},
   "outputs": [],
   "source": []
  },
  {
   "cell_type": "code",
   "execution_count": null,
   "id": "80dac4ff-ae87-4df0-a25b-6837615530d5",
   "metadata": {},
   "outputs": [],
   "source": []
  },
  {
   "cell_type": "code",
   "execution_count": null,
   "id": "db52b6ad-b47f-4b0d-9f41-da53976ea799",
   "metadata": {},
   "outputs": [],
   "source": []
  },
  {
   "cell_type": "code",
   "execution_count": null,
   "id": "d91dbf15-e23a-404a-9f1b-c1da0679411e",
   "metadata": {},
   "outputs": [],
   "source": []
  },
  {
   "cell_type": "code",
   "execution_count": null,
   "id": "4f1ef3f9-029d-4bd0-9bad-b4f795ef38d7",
   "metadata": {},
   "outputs": [],
   "source": []
  },
  {
   "cell_type": "code",
   "execution_count": null,
   "id": "4edb66b3-b3e8-46a4-b96b-4c28199ae76c",
   "metadata": {},
   "outputs": [],
   "source": []
  },
  {
   "cell_type": "code",
   "execution_count": null,
   "id": "a15638a8-a13f-411d-a05b-b6b7b83307cc",
   "metadata": {},
   "outputs": [],
   "source": []
  }
 ],
 "metadata": {
  "kernelspec": {
   "display_name": "Python 3 (ipykernel)",
   "language": "python",
   "name": "python3"
  },
  "language_info": {
   "codemirror_mode": {
    "name": "ipython",
    "version": 3
   },
   "file_extension": ".py",
   "mimetype": "text/x-python",
   "name": "python",
   "nbconvert_exporter": "python",
   "pygments_lexer": "ipython3",
   "version": "3.8.20"
  }
 },
 "nbformat": 4,
 "nbformat_minor": 5
}
