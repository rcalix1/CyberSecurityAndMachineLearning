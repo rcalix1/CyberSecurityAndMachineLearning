{
 "cells": [
  {
   "cell_type": "markdown",
   "id": "744b59bb-1d1b-469e-9e0d-3a5b5eb82fe9",
   "metadata": {},
   "source": [
    "\n",
    "## Hopfield Networks\n",
    "\n",
    "* can be use for anomaly detection\n"
   ]
  },
  {
   "cell_type": "code",
   "execution_count": 1,
   "id": "03a42544-82d4-4f0e-a6f4-874bff337b3e",
   "metadata": {},
   "outputs": [],
   "source": [
    "\n",
    "import torch\n",
    "import numpy as np\n",
    "\n"
   ]
  },
  {
   "cell_type": "code",
   "execution_count": 2,
   "id": "ae9f2294-aab5-40b9-96f3-a60bfc460f13",
   "metadata": {},
   "outputs": [],
   "source": [
    "\n",
    "class HopfieldNet:\n",
    "    \n",
    "    def __init__(self, size):\n",
    "        self.size    = size\n",
    "        self.weights = np.zeros( (size, size) )\n",
    "    \n",
    "    def train(self, patterns):\n",
    "        \n",
    "        for p in patterns:\n",
    "            ## self.weights += np.outer(p, p)\n",
    "            self.weights = self.weights + np.outer(p, p)\n",
    "            \n",
    "        np.fill_diagonal( self.weights, 0 )     # No self-connections\n",
    "        ## self.weights /= len(patterns)\n",
    "        self.weights = self.weights / len(patterns)\n",
    "    \n",
    "    def reconstruct(self, pattern, steps=10):\n",
    "        \n",
    "        for _ in range(steps):\n",
    "            pattern = np.sign(   np.dot(  self.weights, pattern)   )\n",
    "            \n",
    "        return pattern\n"
   ]
  },
  {
   "cell_type": "code",
   "execution_count": 3,
   "id": "dc36bd12-8a2a-473d-b476-126278b55e84",
   "metadata": {},
   "outputs": [],
   "source": [
    "\n",
    "\n",
    "data = np.array(\n",
    "    [\n",
    "    [1, 1, 1, -1, 1, 1],  # Sample 1 (normal)\n",
    "    [1, 1, -1, 1, 1, 1],  # Sample 2 (normal)\n",
    "    [1, 1, 1, -1, 1, 1],  # Sample 3 (normal)\n",
    "    [1, 1, 1, -1, 1, 1],  # Sample 4 (normal)\n",
    "    ]\n",
    ")\n"
   ]
  },
  {
   "cell_type": "code",
   "execution_count": 4,
   "id": "bb2b7d78-af53-4f07-b859-afb1f3b05bc3",
   "metadata": {},
   "outputs": [
    {
     "name": "stdout",
     "output_type": "stream",
     "text": [
      "(4, 6)\n"
     ]
    },
    {
     "data": {
      "text/plain": [
       "array([[ 1,  1,  1, -1,  1,  1],\n",
       "       [ 1,  1, -1,  1,  1,  1],\n",
       "       [ 1,  1,  1, -1,  1,  1],\n",
       "       [ 1,  1,  1, -1,  1,  1]])"
      ]
     },
     "execution_count": 4,
     "metadata": {},
     "output_type": "execute_result"
    }
   ],
   "source": [
    "\n",
    "print( data.shape )\n",
    "\n",
    "data\n"
   ]
  },
  {
   "cell_type": "code",
   "execution_count": 5,
   "id": "2c85bc05-e17c-490a-81d9-a959fc574203",
   "metadata": {},
   "outputs": [
    {
     "data": {
      "text/plain": [
       "array([[0., 0., 0., 0., 0., 0.],\n",
       "       [0., 0., 0., 0., 0., 0.],\n",
       "       [0., 0., 0., 0., 0., 0.],\n",
       "       [0., 0., 0., 0., 0., 0.],\n",
       "       [0., 0., 0., 0., 0., 0.],\n",
       "       [0., 0., 0., 0., 0., 0.]])"
      ]
     },
     "execution_count": 5,
     "metadata": {},
     "output_type": "execute_result"
    }
   ],
   "source": [
    "\n",
    "hopfield = HopfieldNet( size=6 )\n",
    "\n",
    "hopfield.weights\n"
   ]
  },
  {
   "cell_type": "code",
   "execution_count": 6,
   "id": "d3eeeee3-1ba9-4052-b2bf-28a30e991e1a",
   "metadata": {},
   "outputs": [],
   "source": [
    "\n",
    "hopfield.train( data )\n"
   ]
  },
  {
   "cell_type": "markdown",
   "id": "d82896c3-db1a-415a-bed4-a8da8a43088e",
   "metadata": {},
   "source": [
    "\n",
    "## Test Samples\n"
   ]
  },
  {
   "cell_type": "code",
   "execution_count": 7,
   "id": "975daadc-75f9-42bb-aab4-fd5f34bf6d83",
   "metadata": {},
   "outputs": [],
   "source": [
    "\n",
    "def hamming_distance(a, b):\n",
    "    \"\"\"\n",
    "    Calculate the Hamming distance between two strings.\n",
    "    \"\"\"\n",
    "\n",
    "    ## arr1 = np.array(list(str1), dtype=int)\n",
    "    \n",
    "    # XOR to find differing bits, then count the number of 1s\n",
    "    return np.count_nonzero(a != b)\n",
    "\n"
   ]
  },
  {
   "cell_type": "markdown",
   "id": "0e98cf31-d9bb-42a1-b8ae-067fc64b2bf0",
   "metadata": {},
   "source": [
    "\n",
    "## Normal test\n"
   ]
  },
  {
   "cell_type": "code",
   "execution_count": 8,
   "id": "8b8e35b4-f448-4bdb-8465-670319547bfa",
   "metadata": {},
   "outputs": [
    {
     "name": "stdout",
     "output_type": "stream",
     "text": [
      "Test sample:      [1, 1, 1, -1, 1, 1]\n",
      "Recalled sample:  [ 1.  1.  1. -1.  1.  1.]\n"
     ]
    },
    {
     "data": {
      "text/plain": [
       "0"
      ]
     },
     "execution_count": 8,
     "metadata": {},
     "output_type": "execute_result"
    }
   ],
   "source": [
    "\n",
    "# Test \n",
    "\n",
    "test_sample     = [1,  1, 1, -1, 1, 1]\n",
    "recalled_sample = hopfield.reconstruct(test_sample)\n",
    "\n",
    "print(\"Test sample:     \",         test_sample)\n",
    "print(\"Recalled sample: \", recalled_sample)\n",
    "\n",
    "test_sample_tr     = torch.from_numpy( np.array( test_sample  )   )\n",
    "recalled_sample_tr = torch.from_numpy( recalled_sample )\n",
    "\n",
    "\n",
    "distance = hamming_distance(test_sample_tr, recalled_sample_tr)\n",
    "distance\n"
   ]
  },
  {
   "cell_type": "markdown",
   "id": "b42d4358-47d6-47f0-b326-05a8604ed4b4",
   "metadata": {},
   "source": [
    "\n",
    "## Abnormal test\n"
   ]
  },
  {
   "cell_type": "code",
   "execution_count": 9,
   "id": "f28df53d-9ceb-4c00-a174-d252d758c677",
   "metadata": {},
   "outputs": [
    {
     "name": "stdout",
     "output_type": "stream",
     "text": [
      "Test sample:      [-1, -1, 1, -1, -1, -1]\n",
      "Recalled sample:  [-1. -1. -1.  1. -1. -1.]\n"
     ]
    },
    {
     "data": {
      "text/plain": [
       "2"
      ]
     },
     "execution_count": 9,
     "metadata": {},
     "output_type": "execute_result"
    }
   ],
   "source": [
    "\n",
    "# Test \n",
    "\n",
    "test_sample     = [-1, -1, 1, -1, -1, -1]\n",
    "recalled_sample = hopfield.reconstruct(test_sample)\n",
    "\n",
    "print(\"Test sample:     \",         test_sample)\n",
    "print(\"Recalled sample: \", recalled_sample)\n",
    "\n",
    "test_sample_tr     = torch.from_numpy( np.array( test_sample  )   )\n",
    "recalled_sample_tr = torch.from_numpy( recalled_sample )\n",
    "\n",
    "distance = hamming_distance(test_sample_tr, recalled_sample_tr)\n",
    "distance\n",
    "\n"
   ]
  },
  {
   "cell_type": "code",
   "execution_count": null,
   "id": "46b00397-f2eb-464d-a39d-cae7ca16cbf2",
   "metadata": {},
   "outputs": [],
   "source": []
  },
  {
   "cell_type": "code",
   "execution_count": null,
   "id": "82c95eb1-7122-4231-beae-ed2136a80259",
   "metadata": {},
   "outputs": [],
   "source": []
  },
  {
   "cell_type": "markdown",
   "id": "25794d67-e7d4-4b0e-b765-89f78984204c",
   "metadata": {},
   "source": [
    "\n",
    "## Breaking down the operations \n"
   ]
  },
  {
   "cell_type": "code",
   "execution_count": 10,
   "id": "8ffb103e-2a59-4c32-8d29-13ba7383017d",
   "metadata": {},
   "outputs": [
    {
     "name": "stdout",
     "output_type": "stream",
     "text": [
      "[ 1  1  1 -1  1  1]\n",
      "[[ 1  1  1 -1  1  1]\n",
      " [ 1  1  1 -1  1  1]\n",
      " [ 1  1  1 -1  1  1]\n",
      " [-1 -1 -1  1 -1 -1]\n",
      " [ 1  1  1 -1  1  1]\n",
      " [ 1  1  1 -1  1  1]]\n",
      "[ 1  1 -1  1  1  1]\n",
      "[[ 1  1 -1  1  1  1]\n",
      " [ 1  1 -1  1  1  1]\n",
      " [-1 -1  1 -1 -1 -1]\n",
      " [ 1  1 -1  1  1  1]\n",
      " [ 1  1 -1  1  1  1]\n",
      " [ 1  1 -1  1  1  1]]\n",
      "[ 1  1  1 -1  1  1]\n",
      "[[ 1  1  1 -1  1  1]\n",
      " [ 1  1  1 -1  1  1]\n",
      " [ 1  1  1 -1  1  1]\n",
      " [-1 -1 -1  1 -1 -1]\n",
      " [ 1  1  1 -1  1  1]\n",
      " [ 1  1  1 -1  1  1]]\n",
      "[ 1  1  1 -1  1  1]\n",
      "[[ 1  1  1 -1  1  1]\n",
      " [ 1  1  1 -1  1  1]\n",
      " [ 1  1  1 -1  1  1]\n",
      " [-1 -1 -1  1 -1 -1]\n",
      " [ 1  1  1 -1  1  1]\n",
      " [ 1  1  1 -1  1  1]]\n"
     ]
    }
   ],
   "source": [
    "\n",
    "size = 6\n",
    "weights = np.zeros( (size, size) )\n",
    "\n",
    "for p in data:\n",
    "    print( p )\n",
    "    print( np.outer(p, p) )\n",
    "    weights = weights + np.outer(p, p)\n",
    "            \n",
    "    "
   ]
  },
  {
   "cell_type": "markdown",
   "id": "fe2c8567-806b-4cee-939d-3d372c58b99a",
   "metadata": {},
   "source": [
    "\n",
    "## np.outer\n",
    "\n",
    "* np.outer produces one product between each possible element pairing from 2 tensors (a and b).\n",
    "* np.outer is used for the cross product \n",
    "* the intuition is like a pairwise distance matrix\n",
    "* this can help us to find the distance between each pair of point values\n",
    "* Hebbian learning rule for training \n"
   ]
  },
  {
   "cell_type": "code",
   "execution_count": 11,
   "id": "4c776986-9934-40c7-996f-bb0925d2bb71",
   "metadata": {},
   "outputs": [
    {
     "data": {
      "text/plain": [
       "array([[ 0.,  4.,  2., -2.,  4.,  4.],\n",
       "       [ 4.,  0.,  2., -2.,  4.,  4.],\n",
       "       [ 2.,  2.,  0., -4.,  2.,  2.],\n",
       "       [-2., -2., -4.,  0., -2., -2.],\n",
       "       [ 4.,  4.,  2., -2.,  0.,  4.],\n",
       "       [ 4.,  4.,  2., -2.,  4.,  0.]])"
      ]
     },
     "execution_count": 11,
     "metadata": {},
     "output_type": "execute_result"
    }
   ],
   "source": [
    "\n",
    "np.fill_diagonal( weights, 0 )     \n",
    "\n",
    "weights\n",
    "    \n"
   ]
  },
  {
   "cell_type": "code",
   "execution_count": 12,
   "id": "cbd3402c-c7a2-4f53-8b39-6ef43dd613e9",
   "metadata": {},
   "outputs": [
    {
     "data": {
      "text/plain": [
       "4"
      ]
     },
     "execution_count": 12,
     "metadata": {},
     "output_type": "execute_result"
    }
   ],
   "source": [
    "\n",
    "len(data)\n"
   ]
  },
  {
   "cell_type": "code",
   "execution_count": 13,
   "id": "44343bba-deea-4fcf-a848-51aba462c73e",
   "metadata": {},
   "outputs": [],
   "source": [
    "\n",
    "## self.weights /= len(patterns)\n",
    "weights = weights / len(data)\n"
   ]
  },
  {
   "cell_type": "code",
   "execution_count": 14,
   "id": "6daa9bab-9dc5-4f7f-81c4-072aa0327032",
   "metadata": {},
   "outputs": [
    {
     "data": {
      "text/plain": [
       "array([[ 0. ,  1. ,  0.5, -0.5,  1. ,  1. ],\n",
       "       [ 1. ,  0. ,  0.5, -0.5,  1. ,  1. ],\n",
       "       [ 0.5,  0.5,  0. , -1. ,  0.5,  0.5],\n",
       "       [-0.5, -0.5, -1. ,  0. , -0.5, -0.5],\n",
       "       [ 1. ,  1. ,  0.5, -0.5,  0. ,  1. ],\n",
       "       [ 1. ,  1. ,  0.5, -0.5,  1. ,  0. ]])"
      ]
     },
     "execution_count": 14,
     "metadata": {},
     "output_type": "execute_result"
    }
   ],
   "source": [
    "\n",
    "weights\n",
    "\n"
   ]
  },
  {
   "cell_type": "code",
   "execution_count": null,
   "id": "7ab15233-bad0-4196-8aea-a5aa20f4491d",
   "metadata": {},
   "outputs": [],
   "source": []
  },
  {
   "cell_type": "markdown",
   "id": "88833ea0-895c-435a-b179-ed72631ab33a",
   "metadata": {},
   "source": [
    "\n",
    "## Example assumming samples of images size (10, 10)\n"
   ]
  },
  {
   "cell_type": "code",
   "execution_count": 15,
   "id": "7cd9d9e0-5b24-4d62-8f9a-6bc5f153722c",
   "metadata": {},
   "outputs": [
    {
     "data": {
      "text/plain": [
       "array([0, 0, 0, 0, 0, 0, 0, 0, 0, 0, 0, 0, 0, 0, 0, 0, 0, 0, 0, 0, 0, 0,\n",
       "       0, 0, 0, 0, 0, 0, 0, 0, 0, 0, 0, 0, 0, 0, 0, 0, 0, 0, 0, 0, 0, 0,\n",
       "       0, 0, 0, 0, 0, 0, 1, 1, 1, 1, 1, 1, 1, 1, 1, 1, 1, 1, 1, 1, 1, 1,\n",
       "       1, 1, 1, 1, 1, 1, 1, 1, 1, 1, 1, 1, 1, 1, 1, 1, 1, 1, 1, 1, 1, 1,\n",
       "       1, 1, 1, 1, 1, 1, 1, 1, 1, 1, 1, 1])"
      ]
     },
     "execution_count": 15,
     "metadata": {},
     "output_type": "execute_result"
    }
   ],
   "source": [
    "\n",
    "my_array = [0] * 50 + [1] * 50\n",
    "\n",
    "my_array = np.array( my_array )\n",
    "\n",
    "my_array\n"
   ]
  },
  {
   "cell_type": "code",
   "execution_count": 16,
   "id": "7d18f9f8-df03-48cc-85b0-bc8d5a2b308a",
   "metadata": {},
   "outputs": [
    {
     "name": "stdout",
     "output_type": "stream",
     "text": [
      "(10, 10)\n"
     ]
    },
    {
     "data": {
      "text/plain": [
       "array([[1, 1, 1, 0, 1, 1, 0, 0, 1, 0],\n",
       "       [1, 1, 0, 1, 1, 0, 1, 1, 0, 0],\n",
       "       [0, 0, 0, 0, 1, 1, 1, 0, 0, 0],\n",
       "       [1, 1, 0, 1, 0, 0, 1, 1, 1, 0],\n",
       "       [1, 0, 1, 0, 0, 1, 0, 1, 0, 0],\n",
       "       [0, 1, 0, 1, 1, 0, 0, 0, 0, 1],\n",
       "       [0, 0, 0, 1, 1, 1, 0, 1, 1, 1],\n",
       "       [1, 0, 0, 0, 0, 1, 1, 1, 1, 0],\n",
       "       [1, 0, 1, 0, 0, 1, 0, 1, 0, 0],\n",
       "       [1, 0, 0, 1, 0, 1, 1, 1, 0, 1]])"
      ]
     },
     "execution_count": 16,
     "metadata": {},
     "output_type": "execute_result"
    }
   ],
   "source": [
    "\n",
    "np.random.shuffle( my_array )\n",
    "\n",
    "image = my_array\n",
    "\n",
    "image = image.reshape((10,10))\n",
    "\n",
    "print( image.shape )\n",
    "\n",
    "image\n"
   ]
  },
  {
   "cell_type": "code",
   "execution_count": 17,
   "id": "cc1207e0-1ded-42a1-b3eb-4380f3c97295",
   "metadata": {},
   "outputs": [],
   "source": [
    "\n",
    "states = image * 2 - 1     ##  to polar values of (-1, 1)\n"
   ]
  },
  {
   "cell_type": "code",
   "execution_count": 18,
   "id": "3bee2901-a486-4bb1-b249-7f7f1112edfd",
   "metadata": {},
   "outputs": [
    {
     "data": {
      "text/plain": [
       "array([[ 1,  1,  1, -1,  1,  1, -1, -1,  1, -1],\n",
       "       [ 1,  1, -1,  1,  1, -1,  1,  1, -1, -1],\n",
       "       [-1, -1, -1, -1,  1,  1,  1, -1, -1, -1],\n",
       "       [ 1,  1, -1,  1, -1, -1,  1,  1,  1, -1],\n",
       "       [ 1, -1,  1, -1, -1,  1, -1,  1, -1, -1],\n",
       "       [-1,  1, -1,  1,  1, -1, -1, -1, -1,  1],\n",
       "       [-1, -1, -1,  1,  1,  1, -1,  1,  1,  1],\n",
       "       [ 1, -1, -1, -1, -1,  1,  1,  1,  1, -1],\n",
       "       [ 1, -1,  1, -1, -1,  1, -1,  1, -1, -1],\n",
       "       [ 1, -1, -1,  1, -1,  1,  1,  1, -1,  1]])"
      ]
     },
     "execution_count": 18,
     "metadata": {},
     "output_type": "execute_result"
    }
   ],
   "source": [
    "\n",
    "states\n"
   ]
  },
  {
   "cell_type": "code",
   "execution_count": 19,
   "id": "661e10be-3cc7-4783-a8a6-49da9df8f3f1",
   "metadata": {},
   "outputs": [
    {
     "data": {
      "text/plain": [
       "array([ 1,  1,  1, -1,  1,  1, -1, -1,  1, -1,  1,  1, -1,  1,  1, -1,  1,\n",
       "        1, -1, -1, -1, -1, -1, -1,  1,  1,  1, -1, -1, -1,  1,  1, -1,  1,\n",
       "       -1, -1,  1,  1,  1, -1,  1, -1,  1, -1, -1,  1, -1,  1, -1, -1, -1,\n",
       "        1, -1,  1,  1, -1, -1, -1, -1,  1, -1, -1, -1,  1,  1,  1, -1,  1,\n",
       "        1,  1,  1, -1, -1, -1, -1,  1,  1,  1,  1, -1,  1, -1,  1, -1, -1,\n",
       "        1, -1,  1, -1, -1,  1, -1, -1,  1, -1,  1,  1,  1, -1,  1])"
      ]
     },
     "execution_count": 19,
     "metadata": {},
     "output_type": "execute_result"
    }
   ],
   "source": [
    "\n",
    "states = states.flatten() \n",
    "\n",
    "states\n"
   ]
  },
  {
   "cell_type": "code",
   "execution_count": 20,
   "id": "7646226e-a493-4097-94ae-c4d578b55397",
   "metadata": {},
   "outputs": [
    {
     "name": "stdout",
     "output_type": "stream",
     "text": [
      "(100, 100)\n"
     ]
    },
    {
     "data": {
      "text/plain": [
       "array([[ 1,  1,  1, ...,  1, -1,  1],\n",
       "       [ 1,  1,  1, ...,  1, -1,  1],\n",
       "       [ 1,  1,  1, ...,  1, -1,  1],\n",
       "       ...,\n",
       "       [ 1,  1,  1, ...,  1, -1,  1],\n",
       "       [-1, -1, -1, ..., -1,  1, -1],\n",
       "       [ 1,  1,  1, ...,  1, -1,  1]])"
      ]
     },
     "execution_count": 20,
     "metadata": {},
     "output_type": "execute_result"
    }
   ],
   "source": [
    "\n",
    "## no.outer does the cross product\n",
    "\n",
    "weights = np.outer(states, states.T)\n",
    "print( weights.shape )\n",
    "weights \n"
   ]
  },
  {
   "cell_type": "code",
   "execution_count": 21,
   "id": "09e37969-c361-4fc2-81c9-c147d986d2a8",
   "metadata": {},
   "outputs": [
    {
     "name": "stdout",
     "output_type": "stream",
     "text": [
      "(100, 100)\n"
     ]
    },
    {
     "data": {
      "text/plain": [
       "array([[ 0,  1,  1, ...,  1, -1,  1],\n",
       "       [ 1,  0,  1, ...,  1, -1,  1],\n",
       "       [ 1,  1,  0, ...,  1, -1,  1],\n",
       "       ...,\n",
       "       [ 1,  1,  1, ...,  0, -1,  1],\n",
       "       [-1, -1, -1, ..., -1,  0, -1],\n",
       "       [ 1,  1,  1, ...,  1, -1,  0]])"
      ]
     },
     "execution_count": 21,
     "metadata": {},
     "output_type": "execute_result"
    }
   ],
   "source": [
    "\n",
    "np.fill_diagonal(weights, 0)\n",
    "print( weights.shape )\n",
    "weights \n"
   ]
  },
  {
   "cell_type": "code",
   "execution_count": 22,
   "id": "80c74179-4d05-4053-b2f4-e711219d82ef",
   "metadata": {},
   "outputs": [],
   "source": [
    "\n",
    "\n",
    "## previous_weights = previous_weights + weights\n"
   ]
  },
  {
   "cell_type": "code",
   "execution_count": null,
   "id": "bf3660eb-cd18-4189-ba24-f41c3c43d778",
   "metadata": {},
   "outputs": [],
   "source": []
  },
  {
   "cell_type": "code",
   "execution_count": null,
   "id": "1b2bbb63-5b40-4c93-be66-55372062d683",
   "metadata": {},
   "outputs": [],
   "source": []
  },
  {
   "cell_type": "code",
   "execution_count": null,
   "id": "855dde17-8435-4cce-a40d-509cae68a0ab",
   "metadata": {},
   "outputs": [],
   "source": []
  },
  {
   "cell_type": "code",
   "execution_count": null,
   "id": "efeb1f56-7f2e-4cfd-bbfb-3a07897b1209",
   "metadata": {},
   "outputs": [],
   "source": []
  },
  {
   "cell_type": "code",
   "execution_count": null,
   "id": "a08fac4b-d461-4311-b193-480f311cd071",
   "metadata": {},
   "outputs": [],
   "source": []
  },
  {
   "cell_type": "code",
   "execution_count": null,
   "id": "312bbf5c-540a-445f-97f6-92e9b4e1c5a5",
   "metadata": {},
   "outputs": [],
   "source": []
  },
  {
   "cell_type": "code",
   "execution_count": null,
   "id": "a187cf55-1781-4312-a884-992685c89b32",
   "metadata": {},
   "outputs": [],
   "source": []
  }
 ],
 "metadata": {
  "kernelspec": {
   "display_name": "Python 3 (ipykernel)",
   "language": "python",
   "name": "python3"
  },
  "language_info": {
   "codemirror_mode": {
    "name": "ipython",
    "version": 3
   },
   "file_extension": ".py",
   "mimetype": "text/x-python",
   "name": "python",
   "nbconvert_exporter": "python",
   "pygments_lexer": "ipython3",
   "version": "3.8.20"
  }
 },
 "nbformat": 4,
 "nbformat_minor": 5
}
