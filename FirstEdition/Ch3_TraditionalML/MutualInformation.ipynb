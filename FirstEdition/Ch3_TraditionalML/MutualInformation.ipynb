{
 "cells": [
  {
   "cell_type": "markdown",
   "id": "5c99c706-19db-40e2-a19d-ee16a2472fa5",
   "metadata": {},
   "source": [
    "\n",
    "## Mutual Information\n"
   ]
  },
  {
   "cell_type": "code",
   "execution_count": 5,
   "id": "9add9634-33e0-41a0-a938-dae16a941dc2",
   "metadata": {},
   "outputs": [],
   "source": [
    "\n",
    "\n",
    "from sklearn.feature_selection import mutual_info_classif\n",
    "import numpy as np\n"
   ]
  },
  {
   "cell_type": "markdown",
   "id": "34394de2-bb0d-4c66-abd6-8964d1df4636",
   "metadata": {},
   "source": [
    "\n",
    "## Example 1\n"
   ]
  },
  {
   "cell_type": "code",
   "execution_count": 6,
   "id": "5c68a200-3fcb-43fc-a4b7-9f1439c9b922",
   "metadata": {},
   "outputs": [
    {
     "data": {
      "text/plain": [
       "array([[1, 1, 0],\n",
       "       [1, 0, 1],\n",
       "       [1, 1, 1],\n",
       "       [0, 1, 0],\n",
       "       [0, 0, 1],\n",
       "       [0, 1, 0],\n",
       "       [1, 0, 0]])"
      ]
     },
     "execution_count": 6,
     "metadata": {},
     "output_type": "execute_result"
    }
   ],
   "source": [
    "\n",
    "##               f1,f2, f3,\n",
    "X = np.array([   [1, 1, 0], \n",
    "                 [1, 0, 1], \n",
    "                 [1, 1, 1], \n",
    "                 [0, 1, 0], \n",
    "                 [0, 0, 1], \n",
    "                 [0, 1, 0],\n",
    "                 [1, 0, 0]     ]\n",
    ")  \n",
    "\n",
    "X\n"
   ]
  },
  {
   "cell_type": "code",
   "execution_count": 7,
   "id": "de3f5250-0b62-49bc-aa12-ab2a8921ecd1",
   "metadata": {},
   "outputs": [
    {
     "data": {
      "text/plain": [
       "array([0, 1, 1, 0, 1, 0, 0])"
      ]
     },
     "execution_count": 7,
     "metadata": {},
     "output_type": "execute_result"
    }
   ],
   "source": [
    "\n",
    "y = np.array(\n",
    "    [0, \n",
    "     1, \n",
    "     1, \n",
    "     0, \n",
    "     1, \n",
    "     0, \n",
    "     0]\n",
    ")  \n",
    "\n",
    "y\n"
   ]
  },
  {
   "cell_type": "code",
   "execution_count": 11,
   "id": "cbf41df9-e1c3-4727-8bf8-8e45f9a308b9",
   "metadata": {},
   "outputs": [
    {
     "data": {
      "text/plain": [
       "array([0.01403222, 0.08878195, 0.6829081 ])"
      ]
     },
     "execution_count": 11,
     "metadata": {},
     "output_type": "execute_result"
    }
   ],
   "source": [
    "\n",
    "mutual_info = mutual_info_classif(X, y, discrete_features=True)\n",
    "\n",
    "mutual_info\n"
   ]
  },
  {
   "cell_type": "code",
   "execution_count": 12,
   "id": "001b3ce2-b2e1-4e79-9d53-318ce117b803",
   "metadata": {},
   "outputs": [
    {
     "name": "stdout",
     "output_type": "stream",
     "text": [
      "F1.... 0.014032215111297097\n",
      "F2.... 0.0887819499348041\n",
      "F3.... 0.6829081047004715\n"
     ]
    }
   ],
   "source": [
    "\n",
    "print(\"F1....\", mutual_info[0] )\n",
    "print(\"F2....\", mutual_info[1] )\n",
    "print(\"F3....\", mutual_info[2] )\n"
   ]
  },
  {
   "cell_type": "markdown",
   "id": "da0260c7-3dd8-490d-948e-3dbb2730c63f",
   "metadata": {},
   "source": [
    "\n",
    "## Example 2\n"
   ]
  },
  {
   "cell_type": "code",
   "execution_count": 16,
   "id": "1831325b-8634-4e98-a1dc-331e968aeb36",
   "metadata": {},
   "outputs": [
    {
     "data": {
      "text/plain": [
       "array([[1, 1, 0],\n",
       "       [1, 0, 1],\n",
       "       [1, 1, 1],\n",
       "       [0, 1, 0],\n",
       "       [1, 0, 1],\n",
       "       [0, 1, 0],\n",
       "       [0, 0, 0]])"
      ]
     },
     "execution_count": 16,
     "metadata": {},
     "output_type": "execute_result"
    }
   ],
   "source": [
    "\n",
    "##               f1,f2, f3,\n",
    "X2 = np.array([  [1, 1, 0], \n",
    "                 [1, 0, 1], \n",
    "                 [1, 1, 1], \n",
    "                 [0, 1, 0], \n",
    "                 [1, 0, 1], \n",
    "                 [0, 1, 0],\n",
    "                 [0, 0, 0]     ]\n",
    ")  \n",
    "\n",
    "X2\n",
    "\n"
   ]
  },
  {
   "cell_type": "code",
   "execution_count": 17,
   "id": "a260ff6d-f154-49e3-9770-9d356401ef57",
   "metadata": {},
   "outputs": [
    {
     "data": {
      "text/plain": [
       "array([0, 1, 1, 0, 1, 0, 0])"
      ]
     },
     "execution_count": 17,
     "metadata": {},
     "output_type": "execute_result"
    }
   ],
   "source": [
    "\n",
    "y = np.array(\n",
    "    [0, \n",
    "     1, \n",
    "     1, \n",
    "     0, \n",
    "     1, \n",
    "     0, \n",
    "     0]\n",
    ")  \n",
    "\n",
    "y\n",
    "\n"
   ]
  },
  {
   "cell_type": "code",
   "execution_count": 18,
   "id": "c52b817c-7e55-4f94-9956-3d83d74e6257",
   "metadata": {},
   "outputs": [
    {
     "data": {
      "text/plain": [
       "array([0.36157374, 0.08878195, 0.6829081 ])"
      ]
     },
     "execution_count": 18,
     "metadata": {},
     "output_type": "execute_result"
    }
   ],
   "source": [
    "\n",
    "mutual_info = mutual_info_classif( X2, y, discrete_features=True )\n",
    "\n",
    "mutual_info\n"
   ]
  },
  {
   "cell_type": "code",
   "execution_count": 19,
   "id": "e25c48f7-6946-4501-aec9-5275cb7166d4",
   "metadata": {},
   "outputs": [
    {
     "name": "stdout",
     "output_type": "stream",
     "text": [
      "F1.... 0.36157373634686685\n",
      "F2.... 0.0887819499348041\n",
      "F3.... 0.6829081047004715\n"
     ]
    }
   ],
   "source": [
    "\n",
    "print(\"F1....\", mutual_info[0] )\n",
    "print(\"F2....\", mutual_info[1] )\n",
    "print(\"F3....\", mutual_info[2] )\n"
   ]
  },
  {
   "cell_type": "code",
   "execution_count": null,
   "id": "961749b1-2bcf-4ff6-8f36-14aafd897392",
   "metadata": {},
   "outputs": [],
   "source": []
  },
  {
   "cell_type": "code",
   "execution_count": null,
   "id": "3e88928b-c011-45d3-be25-cc44761f8a6e",
   "metadata": {},
   "outputs": [],
   "source": []
  },
  {
   "cell_type": "code",
   "execution_count": null,
   "id": "fca220d6-83cd-4509-ac91-a18a3c94a49e",
   "metadata": {},
   "outputs": [],
   "source": []
  },
  {
   "cell_type": "code",
   "execution_count": null,
   "id": "1d65bdb1-2a81-43bc-b046-45b086f20435",
   "metadata": {},
   "outputs": [],
   "source": []
  }
 ],
 "metadata": {
  "kernelspec": {
   "display_name": "Python 3 (ipykernel)",
   "language": "python",
   "name": "python3"
  },
  "language_info": {
   "codemirror_mode": {
    "name": "ipython",
    "version": 3
   },
   "file_extension": ".py",
   "mimetype": "text/x-python",
   "name": "python",
   "nbconvert_exporter": "python",
   "pygments_lexer": "ipython3",
   "version": "3.8.20"
  }
 },
 "nbformat": 4,
 "nbformat_minor": 5
}
