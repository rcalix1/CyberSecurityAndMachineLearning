{
 "cells": [
  {
   "cell_type": "markdown",
   "id": "b5e4212f-c9d0-43e0-ac01-98376ed2113c",
   "metadata": {},
   "source": [
    "\n",
    "## Example 1\n",
    "\n",
    "* In this example we have \"n\" threats to our organization with different probabilities each for threat and impact. We want to combine these 2 sets of probabilities to make an informed decision as to which threat may have the highest expected risk. \n"
   ]
  },
  {
   "cell_type": "code",
   "execution_count": 1,
   "id": "e55513ef-8edb-4828-917f-8e9ad909d801",
   "metadata": {},
   "outputs": [],
   "source": [
    "\n",
    "import numpy as np\n"
   ]
  },
  {
   "cell_type": "code",
   "execution_count": 2,
   "id": "42a54425-91fe-4a3f-95a4-3a96b0050687",
   "metadata": {},
   "outputs": [],
   "source": [
    "\n",
    "threat_probabilities = [ 0.1, 0.3, 0.3, 0.2, 0.1]\n",
    "threat_impact        = [ 0.6, 0.8, 0.7, 0.6, 0.9]\n",
    "\n"
   ]
  },
  {
   "cell_type": "code",
   "execution_count": 3,
   "id": "09c41dc9-4f2f-4bb3-8e25-44600b99c26c",
   "metadata": {},
   "outputs": [
    {
     "name": "stdout",
     "output_type": "stream",
     "text": [
      "Threat with highest expected risk is:\n",
      "1\n"
     ]
    }
   ],
   "source": [
    "\n",
    "expected_risks     = [ p * i for p, i in zip(threat_probabilities, threat_impact)]\n",
    "\n",
    "highest_risk_index = np.argmax( expected_risks )\n",
    "\n",
    "print(\"Threat with highest expected risk is:\")\n",
    "print(  highest_risk_index  ) \n"
   ]
  },
  {
   "cell_type": "markdown",
   "id": "f4d740dc-8ee1-4c61-9245-afa0afe7591e",
   "metadata": {},
   "source": [
    "\n",
    "## Example 1 - Threat Probabilities Entropy \n"
   ]
  },
  {
   "cell_type": "code",
   "execution_count": 4,
   "id": "f2d65da2-7734-4bc7-9667-b226b6385037",
   "metadata": {},
   "outputs": [
    {
     "name": "stdout",
     "output_type": "stream",
     "text": [
      "Threat Risk Entropy in bits is: \n",
      "2.1709505944546685\n"
     ]
    }
   ],
   "source": [
    "\n",
    "risk_entropy = -np.sum( [p * np.log2(p) for p in threat_probabilities]  )\n",
    "\n",
    "\n",
    "print(\"Threat Risk Entropy in bits is: \")\n",
    "print( risk_entropy ) \n",
    "\n"
   ]
  },
  {
   "cell_type": "code",
   "execution_count": 5,
   "id": "a77fecd8-0af3-4210-b39b-161779d5b325",
   "metadata": {},
   "outputs": [
    {
     "name": "stdout",
     "output_type": "stream",
     "text": [
      "Threat Risk Entropy in bits is: \n",
      "2.321928094887362\n"
     ]
    }
   ],
   "source": [
    "\n",
    "risk_entropy = -np.sum( [p * np.log2(p) for p in [ 0.2, 0.2, 0.2, 0.2, 0.2]]  )\n",
    "\n",
    "\n",
    "print(\"Threat Risk Entropy in bits is: \")\n",
    "print( risk_entropy ) \n"
   ]
  },
  {
   "cell_type": "code",
   "execution_count": 6,
   "id": "1c781171-96e4-4afc-9447-2b797bf4ffbe",
   "metadata": {},
   "outputs": [
    {
     "name": "stdout",
     "output_type": "stream",
     "text": [
      "Threat Risk Entropy in bits is: \n",
      "0.38249336186032434\n"
     ]
    }
   ],
   "source": [
    "\n",
    "risk_entropy = -np.sum( [p * np.log2(p) for p in [ 0.95, 0.02, 0.01, 0.01, 0.01]]  )\n",
    "\n",
    "\n",
    "print(\"Threat Risk Entropy in bits is: \")\n",
    "print( risk_entropy ) \n"
   ]
  },
  {
   "cell_type": "markdown",
   "id": "01b6b69b-eef4-45db-b14b-4dbb2d8b2d25",
   "metadata": {},
   "source": [
    "\n",
    "## Example 2 - Information Gain\n"
   ]
  },
  {
   "cell_type": "code",
   "execution_count": 8,
   "id": "ec894ddc-4d30-4393-afb1-916c610b5edd",
   "metadata": {},
   "outputs": [
    {
     "name": "stdout",
     "output_type": "stream",
     "text": [
      "Initial Entropy  (bits):  1.8464393446710154\n",
      "Updated Entropy  (bits):  1.4166422780956525\n",
      "Information Gain (bits):  0.429797066575363\n"
     ]
    }
   ],
   "source": [
    "\n",
    "\n",
    "from scipy.stats import entropy\n",
    "\n",
    "threat_before_new_appliance_probabilities  = [0.2, 0.4,  0.3, 0.1 ]  \n",
    "\n",
    "threat_after_new_appliance_probabilities   = [0.2, 0.65, 0.1, 0.05]  \n",
    "\n",
    "initial_entropy  = entropy(threat_before_new_appliance_probabilities, base=2)\n",
    "\n",
    "after_entropy    = entropy(threat_after_new_appliance_probabilities, base=2)\n",
    "\n",
    "information_gain = initial_entropy - after_entropy\n",
    "\n",
    "print(\"Initial Entropy  (bits): \",  initial_entropy   )\n",
    "print(\"Updated Entropy  (bits): \",  after_entropy   )\n",
    "print(\"Information Gain (bits): \",  information_gain  )\n"
   ]
  },
  {
   "cell_type": "code",
   "execution_count": null,
   "id": "431bd170-44ca-46f2-aa65-5eb7d8162f85",
   "metadata": {},
   "outputs": [],
   "source": []
  },
  {
   "cell_type": "code",
   "execution_count": null,
   "id": "1a13be34-f92c-46e4-a0cd-82e970a88f41",
   "metadata": {},
   "outputs": [],
   "source": []
  },
  {
   "cell_type": "code",
   "execution_count": null,
   "id": "fceb775b-1bf3-4c41-9b9e-f314d5796051",
   "metadata": {},
   "outputs": [],
   "source": []
  },
  {
   "cell_type": "code",
   "execution_count": null,
   "id": "452473b4-23b2-4bdb-88fb-dc31187ed78b",
   "metadata": {},
   "outputs": [],
   "source": []
  },
  {
   "cell_type": "code",
   "execution_count": null,
   "id": "3c351008-2b65-406d-83e9-5d7ff7170c77",
   "metadata": {},
   "outputs": [],
   "source": []
  },
  {
   "cell_type": "code",
   "execution_count": null,
   "id": "34c4ab6a-f037-4569-876b-c81240130d62",
   "metadata": {},
   "outputs": [],
   "source": []
  },
  {
   "cell_type": "code",
   "execution_count": null,
   "id": "0127617d-4043-4b4c-8cf1-db22dd71b93d",
   "metadata": {},
   "outputs": [],
   "source": []
  },
  {
   "cell_type": "code",
   "execution_count": null,
   "id": "bae45675-ec32-4660-8d55-d2ab8c09a572",
   "metadata": {},
   "outputs": [],
   "source": []
  },
  {
   "cell_type": "code",
   "execution_count": null,
   "id": "6363459e-e2c2-48a1-87d5-eacc0f92a287",
   "metadata": {},
   "outputs": [],
   "source": []
  },
  {
   "cell_type": "code",
   "execution_count": null,
   "id": "efbbf039-dfbb-4853-94a5-30047e9a169a",
   "metadata": {},
   "outputs": [],
   "source": []
  }
 ],
 "metadata": {
  "kernelspec": {
   "display_name": "Python 3 (ipykernel)",
   "language": "python",
   "name": "python3"
  },
  "language_info": {
   "codemirror_mode": {
    "name": "ipython",
    "version": 3
   },
   "file_extension": ".py",
   "mimetype": "text/x-python",
   "name": "python",
   "nbconvert_exporter": "python",
   "pygments_lexer": "ipython3",
   "version": "3.8.20"
  }
 },
 "nbformat": 4,
 "nbformat_minor": 5
}
