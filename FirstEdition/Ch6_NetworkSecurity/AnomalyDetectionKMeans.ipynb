{
 "cells": [
  {
   "cell_type": "code",
   "execution_count": 1,
   "id": "cbc3523d-871e-4465-88aa-05e5e31dbada",
   "metadata": {},
   "outputs": [],
   "source": [
    "\n",
    "import sklearn\n",
    "import pandas as pd\n",
    "import numpy as np\n",
    "\n",
    "from sklearn.feature_extraction.text import CountVectorizer\n",
    "\n",
    "from sklearn.decomposition import TruncatedSVD\n",
    "\n",
    "import matplotlib.pyplot as plt\n"
   ]
  },
  {
   "cell_type": "code",
   "execution_count": 2,
   "id": "a9a7f1bd-7e93-49c2-8200-b26dfb5cad0f",
   "metadata": {},
   "outputs": [],
   "source": [
    "\n",
    "## !pip install scikit-learn\n",
    "## !pip install pandas\n",
    "## !pip install matplotlib\n"
   ]
  },
  {
   "cell_type": "code",
   "execution_count": 3,
   "id": "99ecb514-4a78-4d75-a8bd-9f9fc03b97fd",
   "metadata": {},
   "outputs": [],
   "source": [
    "\n",
    "def hex_tokenizer(text):\n",
    "    return [ text[i:i+2] for i in range(0, len(text), 2)]\n"
   ]
  },
  {
   "cell_type": "code",
   "execution_count": 4,
   "id": "17fb1d26-58fe-48c7-b723-97e15a9beb60",
   "metadata": {},
   "outputs": [],
   "source": [
    "\n",
    "\n",
    "\n",
    "## Packet payloads\n",
    "\n",
    "examples = ['a0328000bfdd',           ## Normal\n",
    "            '8000dd00ff',             ## Normal\n",
    "            'f4cc32ffaedf',           ## Normal\n",
    "            'ccdf1280bf',             ## Normal\n",
    "            '8042aebfa032',           ## Normal\n",
    "            '64aa90df42',             ## -> Anomaly\n",
    "            'df90421664aa'            ## -> Anomaly\n",
    "]\n"
   ]
  },
  {
   "cell_type": "code",
   "execution_count": 5,
   "id": "7a356810-08b4-49a1-9a5a-56f2f8dfec18",
   "metadata": {},
   "outputs": [],
   "source": [
    "\n",
    "vectorizer = CountVectorizer( tokenizer=hex_tokenizer, lowercase=False)\n",
    "\n",
    "## vectorizer = CountVectorizer(min_df=1)   ##, stop_words='english')\n"
   ]
  },
  {
   "cell_type": "code",
   "execution_count": 6,
   "id": "704da82b-943a-450a-946c-4b9fdcad8bd9",
   "metadata": {},
   "outputs": [
    {
     "name": "stderr",
     "output_type": "stream",
     "text": [
      "/Users/user/opt/anaconda3/envs/py38_Cyber_ML/lib/python3.8/site-packages/sklearn/feature_extraction/text.py:525: UserWarning: The parameter 'token_pattern' will not be used since 'tokenizer' is not None'\n",
      "  warnings.warn(\n"
     ]
    }
   ],
   "source": [
    "\n",
    "## X   = vectorizer.fit_transform(corpus)\n",
    "\n",
    "dtm = vectorizer.fit_transform(examples)\n"
   ]
  },
  {
   "cell_type": "code",
   "execution_count": 7,
   "id": "4186aa61-fa7f-44b5-8aac-b81305fcc6fd",
   "metadata": {},
   "outputs": [
    {
     "name": "stdout",
     "output_type": "stream",
     "text": [
      "['00' '12' '16' '32' '42' '64' '80' '90' 'a0' 'aa' 'ae' 'bf' 'cc' 'dd'\n",
      " 'df' 'f4' 'ff']\n"
     ]
    }
   ],
   "source": [
    "\n",
    "print(  vectorizer.get_feature_names_out()  )\n"
   ]
  },
  {
   "cell_type": "code",
   "execution_count": 8,
   "id": "3f4c5484-cbad-49ce-89b4-64b79af168bf",
   "metadata": {},
   "outputs": [
    {
     "name": "stdout",
     "output_type": "stream",
     "text": [
      "[[1 0 0 1 0 0 1 0 1 0 0 1 0 1 0 0 0]\n",
      " [2 0 0 0 0 0 1 0 0 0 0 0 0 1 0 0 1]\n",
      " [0 0 0 1 0 0 0 0 0 0 1 0 1 0 1 1 1]\n",
      " [0 1 0 0 0 0 1 0 0 0 0 1 1 0 1 0 0]\n",
      " [0 0 0 1 1 0 1 0 1 0 1 1 0 0 0 0 0]\n",
      " [0 0 0 0 1 1 0 1 0 1 0 0 0 0 1 0 0]\n",
      " [0 0 1 0 1 1 0 1 0 1 0 0 0 0 1 0 0]]\n"
     ]
    }
   ],
   "source": [
    "\n",
    "## print(  X.toarray()  )\n",
    "\n",
    "print(  dtm.toarray()  )\n"
   ]
  },
  {
   "cell_type": "code",
   "execution_count": 9,
   "id": "2dde343a-4ae3-4d73-9228-7e02e334a98f",
   "metadata": {},
   "outputs": [
    {
     "data": {
      "text/html": [
       "<div>\n",
       "<style scoped>\n",
       "    .dataframe tbody tr th:only-of-type {\n",
       "        vertical-align: middle;\n",
       "    }\n",
       "\n",
       "    .dataframe tbody tr th {\n",
       "        vertical-align: top;\n",
       "    }\n",
       "\n",
       "    .dataframe thead th {\n",
       "        text-align: right;\n",
       "    }\n",
       "</style>\n",
       "<table border=\"1\" class=\"dataframe\">\n",
       "  <thead>\n",
       "    <tr style=\"text-align: right;\">\n",
       "      <th></th>\n",
       "      <th>00</th>\n",
       "      <th>12</th>\n",
       "      <th>16</th>\n",
       "      <th>32</th>\n",
       "      <th>42</th>\n",
       "      <th>64</th>\n",
       "      <th>80</th>\n",
       "      <th>90</th>\n",
       "      <th>a0</th>\n",
       "      <th>aa</th>\n",
       "      <th>ae</th>\n",
       "      <th>bf</th>\n",
       "      <th>cc</th>\n",
       "      <th>dd</th>\n",
       "      <th>df</th>\n",
       "      <th>f4</th>\n",
       "      <th>ff</th>\n",
       "    </tr>\n",
       "  </thead>\n",
       "  <tbody>\n",
       "    <tr>\n",
       "      <th>a0328000bfdd</th>\n",
       "      <td>1</td>\n",
       "      <td>0</td>\n",
       "      <td>0</td>\n",
       "      <td>1</td>\n",
       "      <td>0</td>\n",
       "      <td>0</td>\n",
       "      <td>1</td>\n",
       "      <td>0</td>\n",
       "      <td>1</td>\n",
       "      <td>0</td>\n",
       "      <td>0</td>\n",
       "      <td>1</td>\n",
       "      <td>0</td>\n",
       "      <td>1</td>\n",
       "      <td>0</td>\n",
       "      <td>0</td>\n",
       "      <td>0</td>\n",
       "    </tr>\n",
       "    <tr>\n",
       "      <th>8000dd00ff</th>\n",
       "      <td>2</td>\n",
       "      <td>0</td>\n",
       "      <td>0</td>\n",
       "      <td>0</td>\n",
       "      <td>0</td>\n",
       "      <td>0</td>\n",
       "      <td>1</td>\n",
       "      <td>0</td>\n",
       "      <td>0</td>\n",
       "      <td>0</td>\n",
       "      <td>0</td>\n",
       "      <td>0</td>\n",
       "      <td>0</td>\n",
       "      <td>1</td>\n",
       "      <td>0</td>\n",
       "      <td>0</td>\n",
       "      <td>1</td>\n",
       "    </tr>\n",
       "    <tr>\n",
       "      <th>f4cc32ffaedf</th>\n",
       "      <td>0</td>\n",
       "      <td>0</td>\n",
       "      <td>0</td>\n",
       "      <td>1</td>\n",
       "      <td>0</td>\n",
       "      <td>0</td>\n",
       "      <td>0</td>\n",
       "      <td>0</td>\n",
       "      <td>0</td>\n",
       "      <td>0</td>\n",
       "      <td>1</td>\n",
       "      <td>0</td>\n",
       "      <td>1</td>\n",
       "      <td>0</td>\n",
       "      <td>1</td>\n",
       "      <td>1</td>\n",
       "      <td>1</td>\n",
       "    </tr>\n",
       "    <tr>\n",
       "      <th>ccdf1280bf</th>\n",
       "      <td>0</td>\n",
       "      <td>1</td>\n",
       "      <td>0</td>\n",
       "      <td>0</td>\n",
       "      <td>0</td>\n",
       "      <td>0</td>\n",
       "      <td>1</td>\n",
       "      <td>0</td>\n",
       "      <td>0</td>\n",
       "      <td>0</td>\n",
       "      <td>0</td>\n",
       "      <td>1</td>\n",
       "      <td>1</td>\n",
       "      <td>0</td>\n",
       "      <td>1</td>\n",
       "      <td>0</td>\n",
       "      <td>0</td>\n",
       "    </tr>\n",
       "    <tr>\n",
       "      <th>8042aebfa032</th>\n",
       "      <td>0</td>\n",
       "      <td>0</td>\n",
       "      <td>0</td>\n",
       "      <td>1</td>\n",
       "      <td>1</td>\n",
       "      <td>0</td>\n",
       "      <td>1</td>\n",
       "      <td>0</td>\n",
       "      <td>1</td>\n",
       "      <td>0</td>\n",
       "      <td>1</td>\n",
       "      <td>1</td>\n",
       "      <td>0</td>\n",
       "      <td>0</td>\n",
       "      <td>0</td>\n",
       "      <td>0</td>\n",
       "      <td>0</td>\n",
       "    </tr>\n",
       "    <tr>\n",
       "      <th>64aa90df42</th>\n",
       "      <td>0</td>\n",
       "      <td>0</td>\n",
       "      <td>0</td>\n",
       "      <td>0</td>\n",
       "      <td>1</td>\n",
       "      <td>1</td>\n",
       "      <td>0</td>\n",
       "      <td>1</td>\n",
       "      <td>0</td>\n",
       "      <td>1</td>\n",
       "      <td>0</td>\n",
       "      <td>0</td>\n",
       "      <td>0</td>\n",
       "      <td>0</td>\n",
       "      <td>1</td>\n",
       "      <td>0</td>\n",
       "      <td>0</td>\n",
       "    </tr>\n",
       "    <tr>\n",
       "      <th>df90421664aa</th>\n",
       "      <td>0</td>\n",
       "      <td>0</td>\n",
       "      <td>1</td>\n",
       "      <td>0</td>\n",
       "      <td>1</td>\n",
       "      <td>1</td>\n",
       "      <td>0</td>\n",
       "      <td>1</td>\n",
       "      <td>0</td>\n",
       "      <td>1</td>\n",
       "      <td>0</td>\n",
       "      <td>0</td>\n",
       "      <td>0</td>\n",
       "      <td>0</td>\n",
       "      <td>1</td>\n",
       "      <td>0</td>\n",
       "      <td>0</td>\n",
       "    </tr>\n",
       "  </tbody>\n",
       "</table>\n",
       "</div>"
      ],
      "text/plain": [
       "              00  12  16  32  42  64  80  90  a0  aa  ae  bf  cc  dd  df  f4  \\\n",
       "a0328000bfdd   1   0   0   1   0   0   1   0   1   0   0   1   0   1   0   0   \n",
       "8000dd00ff     2   0   0   0   0   0   1   0   0   0   0   0   0   1   0   0   \n",
       "f4cc32ffaedf   0   0   0   1   0   0   0   0   0   0   1   0   1   0   1   1   \n",
       "ccdf1280bf     0   1   0   0   0   0   1   0   0   0   0   1   1   0   1   0   \n",
       "8042aebfa032   0   0   0   1   1   0   1   0   1   0   1   1   0   0   0   0   \n",
       "64aa90df42     0   0   0   0   1   1   0   1   0   1   0   0   0   0   1   0   \n",
       "df90421664aa   0   0   1   0   1   1   0   1   0   1   0   0   0   0   1   0   \n",
       "\n",
       "              ff  \n",
       "a0328000bfdd   0  \n",
       "8000dd00ff     1  \n",
       "f4cc32ffaedf   1  \n",
       "ccdf1280bf     0  \n",
       "8042aebfa032   0  \n",
       "64aa90df42     0  \n",
       "df90421664aa   0  "
      ]
     },
     "execution_count": 9,
     "metadata": {},
     "output_type": "execute_result"
    }
   ],
   "source": [
    "\n",
    "dtm_pd = pd.DataFrame( dtm.toarray(), index=examples, columns=vectorizer.get_feature_names_out()  ).head(10)\n",
    "dtm_pd\n"
   ]
  },
  {
   "cell_type": "markdown",
   "id": "f239df9c-e49b-42c9-82b0-f537f3182ffc",
   "metadata": {},
   "source": [
    "\n",
    "## SVD\n"
   ]
  },
  {
   "cell_type": "code",
   "execution_count": 10,
   "id": "19343b7d-cd55-472c-a3cb-0f10feec2db8",
   "metadata": {},
   "outputs": [],
   "source": [
    "\n",
    "lsa = TruncatedSVD(2)\n"
   ]
  },
  {
   "cell_type": "code",
   "execution_count": 11,
   "id": "fbadde8f-96af-4cd0-b8c0-5c41a9223f36",
   "metadata": {},
   "outputs": [],
   "source": [
    "\n",
    "dtm_lsa = lsa.fit_transform(  dtm  )\n"
   ]
  },
  {
   "cell_type": "code",
   "execution_count": 12,
   "id": "38140ce1-23cf-4f1a-94db-3b0f380ed83b",
   "metadata": {},
   "outputs": [
    {
     "data": {
      "text/html": [
       "<div>\n",
       "<style scoped>\n",
       "    .dataframe tbody tr th:only-of-type {\n",
       "        vertical-align: middle;\n",
       "    }\n",
       "\n",
       "    .dataframe tbody tr th {\n",
       "        vertical-align: top;\n",
       "    }\n",
       "\n",
       "    .dataframe thead th {\n",
       "        text-align: right;\n",
       "    }\n",
       "</style>\n",
       "<table border=\"1\" class=\"dataframe\">\n",
       "  <thead>\n",
       "    <tr style=\"text-align: right;\">\n",
       "      <th></th>\n",
       "      <th>SVD1</th>\n",
       "      <th>SV2</th>\n",
       "    </tr>\n",
       "  </thead>\n",
       "  <tbody>\n",
       "    <tr>\n",
       "      <th>a0328000bfdd</th>\n",
       "      <td>1.935926</td>\n",
       "      <td>-1.134140</td>\n",
       "    </tr>\n",
       "    <tr>\n",
       "      <th>8000dd00ff</th>\n",
       "      <td>1.525134</td>\n",
       "      <td>-1.208630</td>\n",
       "    </tr>\n",
       "    <tr>\n",
       "      <th>f4cc32ffaedf</th>\n",
       "      <td>1.312779</td>\n",
       "      <td>0.290966</td>\n",
       "    </tr>\n",
       "    <tr>\n",
       "      <th>ccdf1280bf</th>\n",
       "      <td>1.364542</td>\n",
       "      <td>0.103746</td>\n",
       "    </tr>\n",
       "    <tr>\n",
       "      <th>8042aebfa032</th>\n",
       "      <td>1.838913</td>\n",
       "      <td>-0.223623</td>\n",
       "    </tr>\n",
       "    <tr>\n",
       "      <th>64aa90df42</th>\n",
       "      <td>0.964505</td>\n",
       "      <td>1.865193</td>\n",
       "    </tr>\n",
       "    <tr>\n",
       "      <th>df90421664aa</th>\n",
       "      <td>1.033209</td>\n",
       "      <td>2.059243</td>\n",
       "    </tr>\n",
       "  </tbody>\n",
       "</table>\n",
       "</div>"
      ],
      "text/plain": [
       "                  SVD1       SV2\n",
       "a0328000bfdd  1.935926 -1.134140\n",
       "8000dd00ff    1.525134 -1.208630\n",
       "f4cc32ffaedf  1.312779  0.290966\n",
       "ccdf1280bf    1.364542  0.103746\n",
       "8042aebfa032  1.838913 -0.223623\n",
       "64aa90df42    0.964505  1.865193\n",
       "df90421664aa  1.033209  2.059243"
      ]
     },
     "execution_count": 12,
     "metadata": {},
     "output_type": "execute_result"
    }
   ],
   "source": [
    "\n",
    "svd_dtm_pd = pd.DataFrame( dtm_lsa, index=examples, columns=[\"SVD1\", \"SV2\"]  ).head(10)\n",
    "svd_dtm_pd\n"
   ]
  },
  {
   "cell_type": "markdown",
   "id": "9d84281c-924b-40a6-b769-30efaeb2b64a",
   "metadata": {},
   "source": [
    "\n",
    "## PLOT\n"
   ]
  },
  {
   "cell_type": "code",
   "execution_count": 13,
   "id": "b541ec18-99a8-48d5-b8c9-4e475a9fe481",
   "metadata": {},
   "outputs": [],
   "source": [
    "\n",
    "xs = [ w[0] for w in dtm_lsa ]\n",
    "ys = [ w[1] for w in dtm_lsa ]\n"
   ]
  },
  {
   "cell_type": "code",
   "execution_count": 14,
   "id": "fa9e8469-61d9-425a-b8c6-1197aaa362e6",
   "metadata": {},
   "outputs": [
    {
     "data": {
      "image/png": "[encoded data removed]",
      "text/plain": [
       "<Figure size 640x480 with 1 Axes>"
      ]
     },
     "metadata": {},
     "output_type": "display_data"
    }
   ],
   "source": [
    "\n",
    "plt.scatter(xs, ys)\n",
    "plt.xlabel(\"SVD1\")\n",
    "plt.ylabel(\"SVD2\")\n",
    "plt.show()\n"
   ]
  },
  {
   "cell_type": "code",
   "execution_count": 15,
   "id": "c7933cb3-0a07-4e7e-b037-b7f29134fef0",
   "metadata": {},
   "outputs": [],
   "source": [
    "\n",
    "from sklearn.cluster import KMeans\n"
   ]
  },
  {
   "cell_type": "code",
   "execution_count": 16,
   "id": "edd8c3af-ff3c-4eb1-ba64-20edc07fd045",
   "metadata": {},
   "outputs": [],
   "source": [
    "\n",
    "km_lsa = KMeans(\n",
    "       n_clusters=2,\n",
    "       init='random',\n",
    "       n_init=10,\n",
    "       max_iter=300,\n",
    "       ## to1=1e-04,\n",
    "       random_state=0\n",
    ")\n"
   ]
  },
  {
   "cell_type": "code",
   "execution_count": 17,
   "id": "e9ceaf2f-a077-4813-a84d-005b980c7ae6",
   "metadata": {},
   "outputs": [],
   "source": [
    "\n",
    "y_lsa = km_lsa.fit_predict(dtm_lsa)\n"
   ]
  },
  {
   "cell_type": "code",
   "execution_count": 18,
   "id": "c991dd0e-db15-4e19-b050-5f8181bd9b98",
   "metadata": {},
   "outputs": [
    {
     "data": {
      "text/plain": [
       "(7,)"
      ]
     },
     "execution_count": 18,
     "metadata": {},
     "output_type": "execute_result"
    }
   ],
   "source": [
    "\n",
    "y_lsa.shape\n"
   ]
  },
  {
   "cell_type": "code",
   "execution_count": 19,
   "id": "9d85a9f3-3f80-427f-869d-4c32c9e1bd7d",
   "metadata": {},
   "outputs": [
    {
     "data": {
      "text/plain": [
       "array([0, 0, 0, 0, 0, 1, 1], dtype=int32)"
      ]
     },
     "execution_count": 19,
     "metadata": {},
     "output_type": "execute_result"
    }
   ],
   "source": [
    "\n",
    "y_lsa\n"
   ]
  },
  {
   "cell_type": "code",
   "execution_count": 20,
   "id": "c2ae7b63-d5d3-468b-b8cc-aef9aa5c5979",
   "metadata": {},
   "outputs": [],
   "source": [
    "\n",
    "X = dtm_lsa\n"
   ]
  },
  {
   "cell_type": "code",
   "execution_count": 21,
   "id": "94f10eb5-0d26-4fc7-8621-386abe00d350",
   "metadata": {},
   "outputs": [
    {
     "data": {
      "image/png": "[encoded data removed]",
      "text/plain": [
       "<Figure size 640x480 with 1 Axes>"
      ]
     },
     "metadata": {},
     "output_type": "display_data"
    }
   ],
   "source": [
    "\n",
    "plt.scatter(\n",
    "    X[ y_lsa==0 , 0],\n",
    "    X[ y_lsa==0 , 1],\n",
    "    s=50,\n",
    "    c='lightgreen',\n",
    "    marker='s',\n",
    "    label='latent1'\n",
    ")\n",
    "plt.scatter(\n",
    "    X[ y_lsa==1 , 0],\n",
    "    X[ y_lsa==1 , 1],\n",
    "    s=50,\n",
    "    c='orange',\n",
    "    marker='*',       ##o\n",
    "    label='latent2'\n",
    ")\n",
    "plt.legend()\n",
    "plt.show()\n"
   ]
  },
  {
   "cell_type": "code",
   "execution_count": null,
   "id": "792bb3f3-570a-4940-8a9f-a1ce319f5be8",
   "metadata": {},
   "outputs": [],
   "source": []
  },
  {
   "cell_type": "code",
   "execution_count": null,
   "id": "2c5be85d-4a44-42e6-9c4f-14b7d85fec91",
   "metadata": {},
   "outputs": [],
   "source": []
  },
  {
   "cell_type": "code",
   "execution_count": null,
   "id": "94c56aa0-79c2-4083-8a32-11c46cec95e3",
   "metadata": {},
   "outputs": [],
   "source": []
  },
  {
   "cell_type": "code",
   "execution_count": null,
   "id": "782ea729-02bb-4456-96a8-0a83367b7cb6",
   "metadata": {},
   "outputs": [],
   "source": []
  },
  {
   "cell_type": "code",
   "execution_count": null,
   "id": "b648fa33-3561-470f-99ae-271edb8720a1",
   "metadata": {},
   "outputs": [],
   "source": []
  },
  {
   "cell_type": "code",
   "execution_count": null,
   "id": "4458d2dc-db66-4064-84d6-d589d4a226ad",
   "metadata": {},
   "outputs": [],
   "source": []
  },
  {
   "cell_type": "code",
   "execution_count": null,
   "id": "79f28946-7c21-4520-a8bb-f6ff2c4fb6f2",
   "metadata": {},
   "outputs": [],
   "source": []
  },
  {
   "cell_type": "code",
   "execution_count": null,
   "id": "75f66938-04fd-43ef-b860-b650533e064b",
   "metadata": {},
   "outputs": [],
   "source": []
  },
  {
   "cell_type": "code",
   "execution_count": null,
   "id": "c167a26b-4f5c-4e83-a9bf-0285014c2784",
   "metadata": {},
   "outputs": [],
   "source": []
  },
  {
   "cell_type": "code",
   "execution_count": null,
   "id": "6df1dcaf-ce93-4a7d-a060-43e5c56bf503",
   "metadata": {},
   "outputs": [],
   "source": []
  }
 ],
 "metadata": {
  "kernelspec": {
   "display_name": "Python 3 (ipykernel)",
   "language": "python",
   "name": "python3"
  },
  "language_info": {
   "codemirror_mode": {
    "name": "ipython",
    "version": 3
   },
   "file_extension": ".py",
   "mimetype": "text/x-python",
   "name": "python",
   "nbconvert_exporter": "python",
   "pygments_lexer": "ipython3",
   "version": "3.8.20"
  }
 },
 "nbformat": 4,
 "nbformat_minor": 5
}
