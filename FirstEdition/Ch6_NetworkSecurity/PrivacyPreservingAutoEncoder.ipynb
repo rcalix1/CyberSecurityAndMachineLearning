{
 "cells": [
  {
   "cell_type": "code",
   "execution_count": 38,
   "id": "e067c262-ab72-4fdd-affd-4fe908172020",
   "metadata": {},
   "outputs": [],
   "source": [
    "\n",
    "import torch\n",
    "import numpy as np\n",
    "import os\n",
    "\n",
    "## from torchvision import datasets\n",
    "## from torchvision import transforms\n",
    "## import matplotlib.pyplot as plt\n",
    "## from PIL import Image\n",
    "\n",
    "import torch.optim as optim \n",
    "import torch.nn as nn\n",
    "from torch.utils.data import TensorDataset, DataLoader\n",
    "\n",
    "from torchmetrics.functional.pairwise import pairwise_euclidean_distance\n"
   ]
  },
  {
   "cell_type": "markdown",
   "id": "49304b8b-f26a-4569-af7c-357e2e384ff4",
   "metadata": {},
   "source": [
    "\n",
    "## AutoEncoder\n"
   ]
  },
  {
   "cell_type": "code",
   "execution_count": 39,
   "id": "155047f8-4c09-4406-9063-13574eafea73",
   "metadata": {},
   "outputs": [],
   "source": [
    "\n",
    "privacy_tensor   = torch.randn( 1000, 784 )\n"
   ]
  },
  {
   "cell_type": "code",
   "execution_count": 40,
   "id": "1c52adac-ff07-4b31-9bf2-01e72b94dd31",
   "metadata": {},
   "outputs": [],
   "source": [
    "\n",
    "x_train = privacy_tensor[:, :]\n",
    "y_train = privacy_tensor[:, :]\n"
   ]
  },
  {
   "cell_type": "code",
   "execution_count": 41,
   "id": "525503da-24af-48ac-b730-637998753a82",
   "metadata": {},
   "outputs": [],
   "source": [
    "\n",
    "train_ds = TensorDataset(x_train, y_train)\n",
    "train_dl = DataLoader(dataset=train_ds, batch_size=64, shuffle=True)\n"
   ]
  },
  {
   "cell_type": "code",
   "execution_count": 42,
   "id": "bdc5e15b-cc78-4b11-a944-44644c332d9b",
   "metadata": {},
   "outputs": [],
   "source": [
    "\n",
    "class Autoencoder(nn.Module):\n",
    "    \n",
    "    def __init__(self, input_dim, encoding_dim):\n",
    "        super(Autoencoder, self).__init__()\n",
    "        \n",
    "        self.encoder = nn.Sequential(\n",
    "            nn.Linear(input_dim, encoding_dim),\n",
    "            nn.ReLU()\n",
    "        )\n",
    "        \n",
    "        self.decoder = nn.Sequential(\n",
    "            nn.Linear(encoding_dim, input_dim),\n",
    "            nn.Sigmoid()  # For image data, use Sigmoid to limir output between 0 and 1\n",
    "        )\n",
    "\n",
    "    def forward(self, x):\n",
    "        \n",
    "        encoded = self.encoder(x)\n",
    "        decoded = self.decoder(encoded)\n",
    "        \n",
    "        return decoded\n",
    "\n"
   ]
  },
  {
   "cell_type": "code",
   "execution_count": 43,
   "id": "126dca13-13af-44d6-ba4c-657b39304339",
   "metadata": {},
   "outputs": [
    {
     "name": "stdout",
     "output_type": "stream",
     "text": [
      "tensor(1.2505, grad_fn=<MseLossBackward0>)\n",
      "tensor(1.2485, grad_fn=<MseLossBackward0>)\n",
      "tensor(1.2458, grad_fn=<MseLossBackward0>)\n",
      "tensor(1.2527, grad_fn=<MseLossBackward0>)\n",
      "tensor(1.2451, grad_fn=<MseLossBackward0>)\n",
      "tensor(1.2389, grad_fn=<MseLossBackward0>)\n",
      "tensor(1.2303, grad_fn=<MseLossBackward0>)\n",
      "tensor(1.2382, grad_fn=<MseLossBackward0>)\n",
      "tensor(1.2270, grad_fn=<MseLossBackward0>)\n",
      "tensor(1.2390, grad_fn=<MseLossBackward0>)\n",
      "tensor(1.2361, grad_fn=<MseLossBackward0>)\n",
      "tensor(1.2273, grad_fn=<MseLossBackward0>)\n",
      "tensor(1.2343, grad_fn=<MseLossBackward0>)\n",
      "tensor(1.2358, grad_fn=<MseLossBackward0>)\n",
      "tensor(1.2329, grad_fn=<MseLossBackward0>)\n",
      "tensor(1.2257, grad_fn=<MseLossBackward0>)\n",
      "tensor(1.2059, grad_fn=<MseLossBackward0>)\n",
      "tensor(1.2089, grad_fn=<MseLossBackward0>)\n",
      "tensor(1.1991, grad_fn=<MseLossBackward0>)\n",
      "tensor(1.2147, grad_fn=<MseLossBackward0>)\n",
      "tensor(1.2029, grad_fn=<MseLossBackward0>)\n",
      "tensor(1.2052, grad_fn=<MseLossBackward0>)\n",
      "tensor(1.2056, grad_fn=<MseLossBackward0>)\n",
      "tensor(1.2142, grad_fn=<MseLossBackward0>)\n",
      "tensor(1.1988, grad_fn=<MseLossBackward0>)\n",
      "tensor(1.1989, grad_fn=<MseLossBackward0>)\n",
      "tensor(1.1923, grad_fn=<MseLossBackward0>)\n",
      "tensor(1.1934, grad_fn=<MseLossBackward0>)\n",
      "tensor(1.1726, grad_fn=<MseLossBackward0>)\n",
      "tensor(1.1864, grad_fn=<MseLossBackward0>)\n",
      "tensor(1.1847, grad_fn=<MseLossBackward0>)\n",
      "tensor(1.1658, grad_fn=<MseLossBackward0>)\n",
      "tensor(1.1699, grad_fn=<MseLossBackward0>)\n",
      "tensor(1.1617, grad_fn=<MseLossBackward0>)\n",
      "tensor(1.1587, grad_fn=<MseLossBackward0>)\n",
      "tensor(1.1516, grad_fn=<MseLossBackward0>)\n",
      "tensor(1.1703, grad_fn=<MseLossBackward0>)\n",
      "tensor(1.1546, grad_fn=<MseLossBackward0>)\n",
      "tensor(1.1538, grad_fn=<MseLossBackward0>)\n",
      "tensor(1.1464, grad_fn=<MseLossBackward0>)\n",
      "tensor(1.1320, grad_fn=<MseLossBackward0>)\n",
      "tensor(1.1439, grad_fn=<MseLossBackward0>)\n",
      "tensor(1.1365, grad_fn=<MseLossBackward0>)\n",
      "tensor(1.1264, grad_fn=<MseLossBackward0>)\n",
      "tensor(1.1143, grad_fn=<MseLossBackward0>)\n",
      "tensor(1.1265, grad_fn=<MseLossBackward0>)\n",
      "tensor(1.1172, grad_fn=<MseLossBackward0>)\n",
      "tensor(1.1245, grad_fn=<MseLossBackward0>)\n",
      "tensor(1.1118, grad_fn=<MseLossBackward0>)\n",
      "tensor(1.1107, grad_fn=<MseLossBackward0>)\n",
      "tensor(1.0968, grad_fn=<MseLossBackward0>)\n",
      "tensor(1.0906, grad_fn=<MseLossBackward0>)\n",
      "tensor(1.0871, grad_fn=<MseLossBackward0>)\n",
      "tensor(1.0841, grad_fn=<MseLossBackward0>)\n",
      "tensor(1.0849, grad_fn=<MseLossBackward0>)\n",
      "tensor(1.0811, grad_fn=<MseLossBackward0>)\n",
      "tensor(1.0911, grad_fn=<MseLossBackward0>)\n",
      "tensor(1.0760, grad_fn=<MseLossBackward0>)\n",
      "tensor(1.0753, grad_fn=<MseLossBackward0>)\n",
      "tensor(1.0854, grad_fn=<MseLossBackward0>)\n",
      "tensor(1.0761, grad_fn=<MseLossBackward0>)\n",
      "tensor(1.0741, grad_fn=<MseLossBackward0>)\n",
      "tensor(1.0950, grad_fn=<MseLossBackward0>)\n",
      "tensor(1.0514, grad_fn=<MseLossBackward0>)\n",
      "tensor(1.0540, grad_fn=<MseLossBackward0>)\n",
      "tensor(1.0592, grad_fn=<MseLossBackward0>)\n",
      "tensor(1.0516, grad_fn=<MseLossBackward0>)\n",
      "tensor(1.0410, grad_fn=<MseLossBackward0>)\n",
      "tensor(1.0510, grad_fn=<MseLossBackward0>)\n",
      "tensor(1.0430, grad_fn=<MseLossBackward0>)\n",
      "tensor(1.0598, grad_fn=<MseLossBackward0>)\n",
      "tensor(1.0369, grad_fn=<MseLossBackward0>)\n",
      "tensor(1.0356, grad_fn=<MseLossBackward0>)\n",
      "tensor(1.0300, grad_fn=<MseLossBackward0>)\n",
      "tensor(1.0514, grad_fn=<MseLossBackward0>)\n",
      "tensor(1.0440, grad_fn=<MseLossBackward0>)\n",
      "tensor(1.0385, grad_fn=<MseLossBackward0>)\n",
      "tensor(1.0443, grad_fn=<MseLossBackward0>)\n",
      "tensor(1.0381, grad_fn=<MseLossBackward0>)\n",
      "tensor(1.0365, grad_fn=<MseLossBackward0>)\n",
      "tensor(1.0170, grad_fn=<MseLossBackward0>)\n",
      "tensor(1.0358, grad_fn=<MseLossBackward0>)\n",
      "tensor(1.0332, grad_fn=<MseLossBackward0>)\n",
      "tensor(1.0306, grad_fn=<MseLossBackward0>)\n",
      "tensor(1.0235, grad_fn=<MseLossBackward0>)\n",
      "tensor(1.0217, grad_fn=<MseLossBackward0>)\n",
      "tensor(1.0289, grad_fn=<MseLossBackward0>)\n",
      "tensor(1.0109, grad_fn=<MseLossBackward0>)\n",
      "tensor(1.0243, grad_fn=<MseLossBackward0>)\n",
      "tensor(1.0202, grad_fn=<MseLossBackward0>)\n",
      "tensor(1.0263, grad_fn=<MseLossBackward0>)\n",
      "tensor(0.9989, grad_fn=<MseLossBackward0>)\n",
      "tensor(1.0143, grad_fn=<MseLossBackward0>)\n",
      "tensor(1.0311, grad_fn=<MseLossBackward0>)\n",
      "tensor(1.0107, grad_fn=<MseLossBackward0>)\n",
      "tensor(1.0184, grad_fn=<MseLossBackward0>)\n",
      "tensor(1.0176, grad_fn=<MseLossBackward0>)\n",
      "tensor(1.0077, grad_fn=<MseLossBackward0>)\n",
      "tensor(1.0141, grad_fn=<MseLossBackward0>)\n",
      "tensor(1.0062, grad_fn=<MseLossBackward0>)\n",
      "tensor(1.0170, grad_fn=<MseLossBackward0>)\n",
      "tensor(1.0225, grad_fn=<MseLossBackward0>)\n",
      "tensor(1.0062, grad_fn=<MseLossBackward0>)\n",
      "tensor(1.0072, grad_fn=<MseLossBackward0>)\n",
      "tensor(1.0093, grad_fn=<MseLossBackward0>)\n",
      "tensor(1.0018, grad_fn=<MseLossBackward0>)\n",
      "tensor(1.0084, grad_fn=<MseLossBackward0>)\n",
      "tensor(1.0123, grad_fn=<MseLossBackward0>)\n",
      "tensor(1.0027, grad_fn=<MseLossBackward0>)\n",
      "tensor(1.0097, grad_fn=<MseLossBackward0>)\n",
      "tensor(1.0031, grad_fn=<MseLossBackward0>)\n",
      "tensor(1.0117, grad_fn=<MseLossBackward0>)\n",
      "tensor(1.0052, grad_fn=<MseLossBackward0>)\n",
      "tensor(1.0048, grad_fn=<MseLossBackward0>)\n",
      "tensor(1.0004, grad_fn=<MseLossBackward0>)\n",
      "tensor(1.0078, grad_fn=<MseLossBackward0>)\n",
      "tensor(1.0035, grad_fn=<MseLossBackward0>)\n",
      "tensor(1.0087, grad_fn=<MseLossBackward0>)\n",
      "tensor(1.0169, grad_fn=<MseLossBackward0>)\n",
      "tensor(1.0010, grad_fn=<MseLossBackward0>)\n",
      "tensor(1.0018, grad_fn=<MseLossBackward0>)\n",
      "tensor(1.0021, grad_fn=<MseLossBackward0>)\n",
      "tensor(1.0060, grad_fn=<MseLossBackward0>)\n",
      "tensor(0.9946, grad_fn=<MseLossBackward0>)\n",
      "tensor(0.9980, grad_fn=<MseLossBackward0>)\n",
      "tensor(1.0050, grad_fn=<MseLossBackward0>)\n",
      "tensor(0.9983, grad_fn=<MseLossBackward0>)\n",
      "tensor(1.0063, grad_fn=<MseLossBackward0>)\n",
      "tensor(1.0141, grad_fn=<MseLossBackward0>)\n",
      "tensor(1.0020, grad_fn=<MseLossBackward0>)\n",
      "tensor(0.9991, grad_fn=<MseLossBackward0>)\n",
      "tensor(1.0045, grad_fn=<MseLossBackward0>)\n",
      "tensor(0.9997, grad_fn=<MseLossBackward0>)\n",
      "tensor(1.0077, grad_fn=<MseLossBackward0>)\n",
      "tensor(1.0016, grad_fn=<MseLossBackward0>)\n",
      "tensor(1.0003, grad_fn=<MseLossBackward0>)\n",
      "tensor(0.9987, grad_fn=<MseLossBackward0>)\n",
      "tensor(0.9938, grad_fn=<MseLossBackward0>)\n",
      "tensor(0.9924, grad_fn=<MseLossBackward0>)\n",
      "tensor(0.9912, grad_fn=<MseLossBackward0>)\n",
      "tensor(1.0058, grad_fn=<MseLossBackward0>)\n",
      "tensor(0.9988, grad_fn=<MseLossBackward0>)\n",
      "tensor(0.9944, grad_fn=<MseLossBackward0>)\n",
      "tensor(1.0020, grad_fn=<MseLossBackward0>)\n",
      "tensor(1.0033, grad_fn=<MseLossBackward0>)\n",
      "tensor(0.9944, grad_fn=<MseLossBackward0>)\n",
      "tensor(1.0104, grad_fn=<MseLossBackward0>)\n",
      "tensor(0.9971, grad_fn=<MseLossBackward0>)\n",
      "tensor(1.0014, grad_fn=<MseLossBackward0>)\n",
      "tensor(0.9926, grad_fn=<MseLossBackward0>)\n",
      "tensor(0.9905, grad_fn=<MseLossBackward0>)\n",
      "tensor(1.0061, grad_fn=<MseLossBackward0>)\n",
      "tensor(1.0004, grad_fn=<MseLossBackward0>)\n",
      "tensor(1.0019, grad_fn=<MseLossBackward0>)\n",
      "tensor(0.9987, grad_fn=<MseLossBackward0>)\n",
      "tensor(0.9956, grad_fn=<MseLossBackward0>)\n",
      "tensor(1.0004, grad_fn=<MseLossBackward0>)\n",
      "tensor(0.9810, grad_fn=<MseLossBackward0>)\n",
      "tensor(0.9925, grad_fn=<MseLossBackward0>)\n",
      "tensor(1.0071, grad_fn=<MseLossBackward0>)\n"
     ]
    }
   ],
   "source": [
    "\n",
    "\n",
    "input_dim    = 784  \n",
    "encoding_dim = 32 \n",
    "\n",
    "model     = Autoencoder(input_dim, encoding_dim)\n",
    "\n",
    "optimizer = optim.Adam(model.parameters())\n",
    "criterion = nn.MSELoss()\n",
    "\n",
    "\n",
    "for epoch in range(10):\n",
    "    for x,y in train_dl:\n",
    "        optimizer.zero_grad()\n",
    "        output = model( x)\n",
    "        loss = criterion(output, y)\n",
    "        loss.backward()\n",
    "        optimizer.step()\n",
    "        print(loss)\n"
   ]
  },
  {
   "cell_type": "code",
   "execution_count": null,
   "id": "81724368-d505-45d1-bf7d-2067a4744f60",
   "metadata": {},
   "outputs": [],
   "source": []
  },
  {
   "cell_type": "code",
   "execution_count": 46,
   "id": "383421a2-5236-4eac-b99f-feb0764a97a5",
   "metadata": {},
   "outputs": [
    {
     "name": "stdout",
     "output_type": "stream",
     "text": [
      "torch.Size([1, 784])\n",
      "torch.Size([1, 784])\n"
     ]
    },
    {
     "data": {
      "text/plain": [
       "tensor([[28.9201]], grad_fn=<SqrtBackward0>)"
      ]
     },
     "execution_count": 46,
     "metadata": {},
     "output_type": "execute_result"
    }
   ],
   "source": [
    "\n",
    "sample1  = torch.randn( 1, 784 )\n",
    "print( sample1.shape )\n",
    "\n",
    "res1 = model( sample1 )\n",
    "print(res1.shape)\n",
    "\n",
    "pairwise_euclidean_distance( sample1, res1)\n"
   ]
  },
  {
   "cell_type": "code",
   "execution_count": 47,
   "id": "7eaa41b9-97d9-44ba-bcab-7334ec0ae7a0",
   "metadata": {},
   "outputs": [
    {
     "name": "stdout",
     "output_type": "stream",
     "text": [
      "torch.Size([1, 784])\n",
      "torch.Size([1, 784])\n"
     ]
    },
    {
     "data": {
      "text/plain": [
       "tensor([[29.1498]], grad_fn=<SqrtBackward0>)"
      ]
     },
     "execution_count": 47,
     "metadata": {},
     "output_type": "execute_result"
    }
   ],
   "source": [
    "\n",
    "sample2  = torch.randn( 1, 784 )\n",
    "print( sample2.shape )\n",
    "\n",
    "res2 = model( sample2 )\n",
    "print(res2.shape)\n",
    "\n",
    "pairwise_euclidean_distance( sample2, res2)\n"
   ]
  },
  {
   "cell_type": "code",
   "execution_count": 48,
   "id": "860e79e0-5cac-4788-b630-86bad9cb3d2c",
   "metadata": {},
   "outputs": [
    {
     "name": "stdout",
     "output_type": "stream",
     "text": [
      "torch.Size([1, 784])\n",
      "torch.Size([1, 784])\n"
     ]
    },
    {
     "data": {
      "text/plain": [
       "tensor([[28.5768]], grad_fn=<SqrtBackward0>)"
      ]
     },
     "execution_count": 48,
     "metadata": {},
     "output_type": "execute_result"
    }
   ],
   "source": [
    "\n",
    "sample3  = torch.randn( 1, 784 )\n",
    "print( sample3.shape )\n",
    "\n",
    "res3 = model( sample3 )\n",
    "print(res3.shape)\n",
    "\n",
    "pairwise_euclidean_distance( sample3, res3)\n"
   ]
  },
  {
   "cell_type": "code",
   "execution_count": null,
   "id": "b5d6bc0b-e02e-4b70-8489-4823ca66e577",
   "metadata": {},
   "outputs": [],
   "source": []
  },
  {
   "cell_type": "code",
   "execution_count": null,
   "id": "13ba01d4-ca3d-4c7b-8e20-4d4bbb558cd7",
   "metadata": {},
   "outputs": [],
   "source": []
  },
  {
   "cell_type": "code",
   "execution_count": null,
   "id": "55c80e4d-4989-41ce-80de-500abf262ac8",
   "metadata": {},
   "outputs": [],
   "source": []
  },
  {
   "cell_type": "code",
   "execution_count": null,
   "id": "48519aa7-317d-4727-a684-c54621608cea",
   "metadata": {},
   "outputs": [],
   "source": []
  },
  {
   "cell_type": "code",
   "execution_count": null,
   "id": "edd9ec72-c2ad-42ca-9eae-c4caeae931f9",
   "metadata": {},
   "outputs": [],
   "source": []
  },
  {
   "cell_type": "code",
   "execution_count": null,
   "id": "f7f73142-d462-4d10-b8b2-0d016a17df08",
   "metadata": {},
   "outputs": [],
   "source": []
  },
  {
   "cell_type": "code",
   "execution_count": null,
   "id": "de704cf6-5fc2-4ae7-92f2-79d15d9d6d9e",
   "metadata": {},
   "outputs": [],
   "source": []
  },
  {
   "cell_type": "code",
   "execution_count": null,
   "id": "16ca6921-cde0-43cd-a5e8-21737594b3e0",
   "metadata": {},
   "outputs": [],
   "source": []
  },
  {
   "cell_type": "code",
   "execution_count": null,
   "id": "b04fa760-0681-4090-9915-e785ba6189f2",
   "metadata": {},
   "outputs": [],
   "source": []
  },
  {
   "cell_type": "code",
   "execution_count": 35,
   "id": "228db7c0-4824-4db2-b16c-4bb5a24c0e0d",
   "metadata": {},
   "outputs": [
    {
     "data": {
      "text/plain": [
       "tensor([[3.1193]])"
      ]
     },
     "execution_count": 35,
     "metadata": {},
     "output_type": "execute_result"
    }
   ],
   "source": [
    "\n",
    "\n",
    "\n",
    "x = torch.tensor([[0.9041, 0.0196]]  )\n",
    "\n",
    "y = torch.tensor([[-2.1763, -0.4713]])\n",
    "\n",
    "pairwise_euclidean_distance(x, y)\n"
   ]
  },
  {
   "cell_type": "code",
   "execution_count": null,
   "id": "fbfa6dce-53cd-4010-b146-fc3073c5b308",
   "metadata": {},
   "outputs": [],
   "source": []
  },
  {
   "cell_type": "code",
   "execution_count": null,
   "id": "4548ab54-8f43-4f82-ac15-aba4de0dc946",
   "metadata": {},
   "outputs": [],
   "source": []
  },
  {
   "cell_type": "code",
   "execution_count": null,
   "id": "445c38f5-a4f7-4939-989e-d9450407b0b5",
   "metadata": {},
   "outputs": [],
   "source": []
  },
  {
   "cell_type": "code",
   "execution_count": null,
   "id": "87fd3250-24a1-469e-954e-bcd915d6041f",
   "metadata": {},
   "outputs": [],
   "source": []
  },
  {
   "cell_type": "code",
   "execution_count": null,
   "id": "74a5ee52-c315-4c07-908b-bb8d9ab6a456",
   "metadata": {},
   "outputs": [],
   "source": []
  }
 ],
 "metadata": {
  "kernelspec": {
   "display_name": "Python 3 (ipykernel)",
   "language": "python",
   "name": "python3"
  },
  "language_info": {
   "codemirror_mode": {
    "name": "ipython",
    "version": 3
   },
   "file_extension": ".py",
   "mimetype": "text/x-python",
   "name": "python",
   "nbconvert_exporter": "python",
   "pygments_lexer": "ipython3",
   "version": "3.8.20"
  }
 },
 "nbformat": 4,
 "nbformat_minor": 5
}
