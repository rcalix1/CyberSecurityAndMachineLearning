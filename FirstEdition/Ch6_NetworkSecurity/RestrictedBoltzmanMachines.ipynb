{
 "cells": [
  {
   "cell_type": "markdown",
   "id": "136267b6-7242-42f0-ab27-6536216c1383",
   "metadata": {},
   "source": [
    "\n",
    "## Restricted Boltzman Machines\n"
   ]
  },
  {
   "cell_type": "code",
   "execution_count": 8,
   "id": "f1a36e59-42b5-4d7f-8beb-8b214972bdc5",
   "metadata": {},
   "outputs": [],
   "source": [
    "\n",
    "import numpy as np\n"
   ]
  },
  {
   "cell_type": "code",
   "execution_count": 9,
   "id": "fd061de5-c273-4c11-8c6b-8f0a0d172c81",
   "metadata": {},
   "outputs": [],
   "source": [
    "\n",
    "class RBM:\n",
    "    \n",
    "    def __init__(self, n_visible, n_hidden, learning_rate=0.1):\n",
    "        self.num_visible   = n_visible\n",
    "        self.num_hidden    = n_hidden\n",
    "        self.learning_rate = learning_rate\n",
    "\n",
    "        self.weights      = np.random.randn(num_hidden, num_visible) * 0.1  \n",
    "        self.hidden_bias  = np.zeros(num_hidden)  \n",
    "        self.visible_bias = np.zeros(num_visible)  \n",
    "\n",
    "    def sigmoid(self, x):\n",
    "        return 1.0 / (1.0 + np.exp(-x))\n",
    "\n",
    "    def sample_probabilities(self, probabilities):\n",
    "        \n",
    "        return np.random.binomial( 1, probabilities )\n",
    "\n",
    "    def forward_pass(self, visible):\n",
    "        hidden_activations   = np.dot(visible, self.weights.T) + self.hidden_bias\n",
    "        hidden_probabilities = self.sigmoid(hidden_activations)\n",
    "        return hidden_probabilities\n",
    "\n",
    "    def backward_pass(self, hidden):\n",
    "        visible_activations   = np.dot(hidden, self.weights) + self.visible_bias\n",
    "        visible_probabilities = self.sigmoid( visible_activations ) \n",
    "        return visible_probabilities\n",
    "\n",
    "\n",
    "    def train(self, data, epochs=10):\n",
    "        \n",
    "        for epoch in range(epochs):\n",
    "            epoch_error = 0\n",
    "            \n",
    "            for sample in data:\n",
    "                # Pos phase\n",
    "                positive_hidden_probs  = self.forward_pass(sample)\n",
    "                positive_hidden_states = self.sample_probabilities(positive_hidden_probs)\n",
    "                positive_associations  = np.outer(positive_hidden_states, sample)\n",
    "\n",
    "                # Neg phase\n",
    "                negative_visible_probs = self.backward_pass(positive_hidden_states)\n",
    "                negative_hidden_probs  = self.forward_pass(negative_visible_probs)\n",
    "                negative_associations  = np.outer(negative_hidden_probs, negative_visible_probs)\n",
    "\n",
    "                # Update weights and biases\n",
    "                self.weights = self.weights + self.learning_rate * (positive_associations - negative_associations)\n",
    "                self.visible_bias = self.visible_bias + self.learning_rate * (sample - negative_visible_probs)\n",
    "                self.hidden_bias  = self.hidden_bias  + self.learning_rate * (positive_hidden_probs - negative_hidden_probs)\n",
    "\n",
    "                epoch_error = epoch_error + np.sum(  (sample - negative_visible_probs) ** 2  )\n",
    "\n",
    "            print(f\"Epoch is {epoch + 1}, Reconstruction Error: {epoch_error:.4f}\")\n",
    "\n",
    "    def reconstruct(self, input_data):\n",
    "        hidden                = self.forward_pass( input_data )\n",
    "        reconstructed         = self.backward_pass( hidden    )\n",
    "        return reconstructed\n",
    "\n",
    "\n",
    "\n"
   ]
  },
  {
   "cell_type": "code",
   "execution_count": 10,
   "id": "654cd825-76e4-482e-90d1-d92e6636232e",
   "metadata": {},
   "outputs": [],
   "source": [
    "\n",
    "data = np.array([\n",
    "    [1,1, 1, 0, 1, 0],\n",
    "    [0, 1, 0, 1, 0, 1],\n",
    "    [1, 1, 1, 0, 0, 0],\n",
    "    [0, 0, 1, 1, 1, 0],\n",
    "    [0, 1, 0, 1, 0, 1]\n",
    "])\n"
   ]
  },
  {
   "cell_type": "code",
   "execution_count": 11,
   "id": "9d56bc0b-2787-4308-ae68-536ce51be172",
   "metadata": {},
   "outputs": [
    {
     "name": "stdout",
     "output_type": "stream",
     "text": [
      "Epoch is 1, Reconstruction Error: 7.7999\n",
      "Epoch is 2, Reconstruction Error: 7.4151\n",
      "Epoch is 3, Reconstruction Error: 7.8316\n",
      "Epoch is 4, Reconstruction Error: 7.3105\n",
      "Epoch is 5, Reconstruction Error: 7.4262\n",
      "Epoch is 6, Reconstruction Error: 7.3444\n",
      "Epoch is 7, Reconstruction Error: 7.0804\n",
      "Epoch is 8, Reconstruction Error: 7.1209\n",
      "Epoch is 9, Reconstruction Error: 7.5254\n",
      "Epoch is 10, Reconstruction Error: 7.4025\n"
     ]
    }
   ],
   "source": [
    "\n",
    "num_visible = data.shape[1]\n",
    "num_hidden  = 4\n",
    "rbm = RBM(n_visible=num_visible, n_hidden=num_hidden, learning_rate=0.1)\n",
    "\n",
    "\n",
    "rbm.train(data, epochs=10)\n",
    "\n"
   ]
  },
  {
   "cell_type": "code",
   "execution_count": 12,
   "id": "4feb7d73-aec9-4985-8735-6f93669bfb19",
   "metadata": {},
   "outputs": [
    {
     "name": "stdout",
     "output_type": "stream",
     "text": [
      "\n",
      "Original Input:     [1 0 1 0 0 0]\n",
      "Reconstructed Output: [0. 1. 1. 1. 0. 0.]\n"
     ]
    }
   ],
   "source": [
    "\n",
    "\n",
    "test_sample   = np.array([1, 0, 1, 0, 0, 0])  # New input\n",
    "reconstructed = rbm.reconstruct(test_sample)\n",
    "\n",
    "print(\"\\nOriginal Input:    \", test_sample)\n",
    "print(\"Reconstructed Output:\", np.round(reconstructed))\n"
   ]
  },
  {
   "cell_type": "code",
   "execution_count": null,
   "id": "03a4b2ce-e268-4646-b6af-d844c373a06c",
   "metadata": {},
   "outputs": [],
   "source": []
  },
  {
   "cell_type": "code",
   "execution_count": 13,
   "id": "9f6e904d-5bd5-449c-b75d-0a30967d1fc0",
   "metadata": {},
   "outputs": [],
   "source": [
    "\n",
    "def hamming_distance(a, b):\n",
    "    \"\"\"\n",
    "    Calculate the Hamming distance between two strings.\n",
    "    \"\"\"\n",
    "\n",
    "    ## arr1 = np.array(list(str1), dtype=int)\n",
    "    \n",
    "    # XOR to find differing bits, then count the number of 1s\n",
    "    return np.count_nonzero(a != b)\n"
   ]
  },
  {
   "cell_type": "code",
   "execution_count": 14,
   "id": "42bc8685-f555-4790-a591-92e1226eb474",
   "metadata": {},
   "outputs": [
    {
     "data": {
      "text/plain": [
       "6"
      ]
     },
     "execution_count": 14,
     "metadata": {},
     "output_type": "execute_result"
    }
   ],
   "source": [
    "\n",
    "distance = hamming_distance(test_sample, reconstructed)\n",
    "distance\n"
   ]
  },
  {
   "cell_type": "code",
   "execution_count": null,
   "id": "083e6347-073a-4b0f-a25d-28677d47cba5",
   "metadata": {},
   "outputs": [],
   "source": []
  },
  {
   "cell_type": "code",
   "execution_count": null,
   "id": "2c816fcd-f7bb-492d-9cb3-0a98505f4674",
   "metadata": {},
   "outputs": [],
   "source": []
  },
  {
   "cell_type": "code",
   "execution_count": null,
   "id": "3bfb1a16-fbd6-4562-b4e7-89d66618d79a",
   "metadata": {},
   "outputs": [],
   "source": []
  },
  {
   "cell_type": "code",
   "execution_count": null,
   "id": "776d1021-ace0-4d5c-956e-016ddafcec65",
   "metadata": {},
   "outputs": [],
   "source": []
  },
  {
   "cell_type": "code",
   "execution_count": null,
   "id": "94445080-813c-4cc6-88aa-c1bdb96c6167",
   "metadata": {},
   "outputs": [],
   "source": []
  },
  {
   "cell_type": "code",
   "execution_count": null,
   "id": "302e7eb9-7894-4f65-a551-cea6a1a8fb62",
   "metadata": {},
   "outputs": [],
   "source": []
  },
  {
   "cell_type": "code",
   "execution_count": null,
   "id": "b491848e-9f93-4f86-af4f-ed227d97cb0e",
   "metadata": {},
   "outputs": [],
   "source": []
  },
  {
   "cell_type": "code",
   "execution_count": null,
   "id": "f5ac50ce-e351-4a57-be63-ee05d0293fc0",
   "metadata": {},
   "outputs": [],
   "source": []
  },
  {
   "cell_type": "code",
   "execution_count": null,
   "id": "4babe020-387a-4ad6-81c9-ba89c0c8255b",
   "metadata": {},
   "outputs": [],
   "source": []
  },
  {
   "cell_type": "code",
   "execution_count": null,
   "id": "47e8aee1-f627-45b6-9acf-1612729e8b66",
   "metadata": {},
   "outputs": [],
   "source": []
  },
  {
   "cell_type": "code",
   "execution_count": null,
   "id": "60ca5ca6-6771-4278-a2c3-ab6414dae20b",
   "metadata": {},
   "outputs": [],
   "source": []
  },
  {
   "cell_type": "code",
   "execution_count": null,
   "id": "ab1d0fef-4695-47d3-8711-d954807178ed",
   "metadata": {},
   "outputs": [],
   "source": []
  },
  {
   "cell_type": "code",
   "execution_count": null,
   "id": "1bf71273-b12c-4551-97da-2bbe248fe652",
   "metadata": {},
   "outputs": [],
   "source": []
  },
  {
   "cell_type": "code",
   "execution_count": null,
   "id": "1c8ddde6-d30a-4b11-8d39-9be16c69fb59",
   "metadata": {},
   "outputs": [],
   "source": []
  },
  {
   "cell_type": "code",
   "execution_count": null,
   "id": "70ded877-5093-4db7-a8b8-dac692e098b5",
   "metadata": {},
   "outputs": [],
   "source": []
  },
  {
   "cell_type": "code",
   "execution_count": null,
   "id": "0ba4c442-5223-4350-b18a-dac5e8278917",
   "metadata": {},
   "outputs": [],
   "source": []
  }
 ],
 "metadata": {
  "kernelspec": {
   "display_name": "Python 3 (ipykernel)",
   "language": "python",
   "name": "python3"
  },
  "language_info": {
   "codemirror_mode": {
    "name": "ipython",
    "version": 3
   },
   "file_extension": ".py",
   "mimetype": "text/x-python",
   "name": "python",
   "nbconvert_exporter": "python",
   "pygments_lexer": "ipython3",
   "version": "3.8.20"
  }
 },
 "nbformat": 4,
 "nbformat_minor": 5
}
