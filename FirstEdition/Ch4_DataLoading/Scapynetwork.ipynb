{
 "cells": [
  {
   "cell_type": "code",
   "execution_count": 3,
   "id": "57eadd92-f4e9-4224-a587-d828e2bada52",
   "metadata": {},
   "outputs": [],
   "source": [
    "\n",
    "## !pip install scapy\n",
    "\n"
   ]
  },
  {
   "cell_type": "code",
   "execution_count": 4,
   "id": "341307af-f7d4-43e7-b35b-698e01068616",
   "metadata": {},
   "outputs": [],
   "source": [
    "\n",
    "\n",
    "from scapy.all import *\n"
   ]
  },
  {
   "cell_type": "code",
   "execution_count": 5,
   "id": "b8e23060-e38d-4dc6-80b2-dd3b08b7b38f",
   "metadata": {},
   "outputs": [
    {
     "name": "stdout",
     "output_type": "stream",
     "text": [
      "###[ IP ]###\n",
      "  version   = 4\n",
      "  ihl       = None\n",
      "  tos       = 0x0\n",
      "  len       = None\n",
      "  id        = 1\n",
      "  flags     = \n",
      "  frag      = 0\n",
      "  ttl       = 64\n",
      "  proto     = ip\n",
      "  chksum    = None\n",
      "  src       = 127.0.0.1\n",
      "  dst       = 127.0.0.1\n",
      "  \\options   \\\n",
      "\n"
     ]
    }
   ],
   "source": [
    "\n",
    "a = IP()\n",
    "\n",
    "a.show()\n"
   ]
  },
  {
   "cell_type": "code",
   "execution_count": 6,
   "id": "d716241c-651f-4aba-a8f3-7cc5b7732c42",
   "metadata": {},
   "outputs": [],
   "source": [
    "\n",
    "def print_pkt(pkt):\n",
    "    pkt.show()\n"
   ]
  },
  {
   "cell_type": "code",
   "execution_count": null,
   "id": "97ad824d-090d-4bc4-a2e6-2af19469ab4f",
   "metadata": {},
   "outputs": [],
   "source": [
    "\n",
    "## need to run this on the terminal with root privileges \n",
    "\n",
    "pkt = sniff(filter=\"icmp\", prn=print_pkt)\n"
   ]
  },
  {
   "cell_type": "code",
   "execution_count": null,
   "id": "aa35443c-9bf2-4cc5-be36-93685f93f457",
   "metadata": {},
   "outputs": [],
   "source": []
  },
  {
   "cell_type": "code",
   "execution_count": null,
   "id": "7f72b025-a940-4fb4-9cc3-ab2b0eac0a58",
   "metadata": {},
   "outputs": [],
   "source": []
  },
  {
   "cell_type": "code",
   "execution_count": null,
   "id": "62ef1ae9-2575-4e2b-9dcb-6c8f6d83584f",
   "metadata": {},
   "outputs": [],
   "source": []
  },
  {
   "cell_type": "code",
   "execution_count": null,
   "id": "32d914d9-9d20-441d-a91b-c69db2997985",
   "metadata": {},
   "outputs": [],
   "source": []
  },
  {
   "cell_type": "code",
   "execution_count": null,
   "id": "15a4a12d-83b1-468f-924e-d279f5cbcaa1",
   "metadata": {},
   "outputs": [],
   "source": []
  },
  {
   "cell_type": "code",
   "execution_count": null,
   "id": "573e1a28-786e-44d4-9370-3a7c0882705a",
   "metadata": {},
   "outputs": [],
   "source": []
  },
  {
   "cell_type": "code",
   "execution_count": null,
   "id": "0a276a41-77e5-4776-a2ed-9bbefff56134",
   "metadata": {},
   "outputs": [],
   "source": []
  },
  {
   "cell_type": "code",
   "execution_count": null,
   "id": "092a29b2-4a8a-4370-bd58-0529f6e12551",
   "metadata": {},
   "outputs": [],
   "source": []
  },
  {
   "cell_type": "code",
   "execution_count": null,
   "id": "7732a15b-cf59-4dd6-a1c5-5d19524ef68a",
   "metadata": {},
   "outputs": [],
   "source": []
  },
  {
   "cell_type": "code",
   "execution_count": null,
   "id": "d82237b8-bf05-429e-b562-b67be323c666",
   "metadata": {},
   "outputs": [],
   "source": []
  }
 ],
 "metadata": {
  "kernelspec": {
   "display_name": "Python 3 (ipykernel)",
   "language": "python",
   "name": "python3"
  },
  "language_info": {
   "codemirror_mode": {
    "name": "ipython",
    "version": 3
   },
   "file_extension": ".py",
   "mimetype": "text/x-python",
   "name": "python",
   "nbconvert_exporter": "python",
   "pygments_lexer": "ipython3",
   "version": "3.8.20"
  }
 },
 "nbformat": 4,
 "nbformat_minor": 5
}
