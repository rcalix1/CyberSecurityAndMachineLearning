{
 "cells": [
  {
   "cell_type": "code",
   "execution_count": 24,
   "id": "bbcbd22b-dc6c-42f4-91f6-17fdcfbfd3f5",
   "metadata": {},
   "outputs": [],
   "source": [
    "\n",
    "import requests\n",
    "from bs4 import BeautifulSoup\n"
   ]
  },
  {
   "cell_type": "code",
   "execution_count": 25,
   "id": "5abe338f-108a-4f70-b62e-c79a43f06013",
   "metadata": {},
   "outputs": [],
   "source": [
    "\n",
    "\n",
    "\n",
    "def scan_vulnerabilities(url):\n",
    "    response = requests.get(url)\n",
    "    soup = BeautifulSoup(response.text, 'html.parser')\n",
    "    forms = soup.find_all('form')\n",
    "    print(f\"Found {len(forms)} forms\")\n",
    "\n",
    "    for form in forms:\n",
    "        inputs = form.find_all('input')\n",
    "        action = form.get('action')\n",
    "        method = form.get('method', 'get').lower()\n",
    "        data = {}\n",
    "        for input in inputs:\n",
    "            name = input.get('name')\n",
    "        if method == 'post':\n",
    "            res = requests.post(url + action, data=data)\n",
    "        else:\n",
    "            res = requests.get(url + action, params=data)\n",
    "\n",
    "        if 'sql' in res.text.lower() or 'error' in res.text.lower():\n",
    "            print(\"SQL\")\n",
    "            ##print(res.text.lower())\n",
    "\n",
    "        if '<script>' in res.text.lower():\n",
    "            print(\"xss\")\n",
    "            ##print(res.text.lower())\n",
    "\n",
    "\n",
    "\n",
    "      \n"
   ]
  },
  {
   "cell_type": "code",
   "execution_count": 26,
   "id": "edc06a8d-909a-4790-b5c6-bc455f00d75b",
   "metadata": {},
   "outputs": [
    {
     "name": "stdout",
     "output_type": "stream",
     "text": [
      "Found 1 forms\n",
      "SQL\n",
      "xss\n"
     ]
    }
   ],
   "source": [
    "\n",
    "url = \"https://www.lsu.edu/index.php\"\n",
    "scan_vulnerabilities(url)  \n"
   ]
  },
  {
   "cell_type": "code",
   "execution_count": null,
   "id": "8a90f273-5465-4cbb-a590-938886c5e901",
   "metadata": {},
   "outputs": [],
   "source": []
  },
  {
   "cell_type": "code",
   "execution_count": null,
   "id": "2ba2fe59-47ce-4e48-8a5a-b943261ba163",
   "metadata": {},
   "outputs": [],
   "source": []
  },
  {
   "cell_type": "code",
   "execution_count": null,
   "id": "47718821-ba9f-404f-9543-8eb78dbd2bbc",
   "metadata": {},
   "outputs": [],
   "source": []
  },
  {
   "cell_type": "code",
   "execution_count": null,
   "id": "e731e21c-b5c6-4a4e-b7bf-ba4a8fd27597",
   "metadata": {},
   "outputs": [],
   "source": []
  },
  {
   "cell_type": "code",
   "execution_count": null,
   "id": "a1d1453c-d98b-4055-bd2a-e402c20ea66d",
   "metadata": {},
   "outputs": [],
   "source": []
  },
  {
   "cell_type": "code",
   "execution_count": null,
   "id": "051f88ea-aeac-4851-91ed-1414909892d9",
   "metadata": {},
   "outputs": [],
   "source": []
  },
  {
   "cell_type": "code",
   "execution_count": null,
   "id": "db48b579-bacc-4dfd-b65e-7253fba1aea0",
   "metadata": {},
   "outputs": [],
   "source": []
  },
  {
   "cell_type": "code",
   "execution_count": null,
   "id": "2f2f96a6-e1c3-44dd-9449-35e22493cfa1",
   "metadata": {},
   "outputs": [],
   "source": []
  },
  {
   "cell_type": "code",
   "execution_count": null,
   "id": "827a40ae-9e53-458f-bdde-a390f2163550",
   "metadata": {},
   "outputs": [],
   "source": []
  },
  {
   "cell_type": "code",
   "execution_count": null,
   "id": "8256e80a-866e-4c90-914a-11b96728f2cc",
   "metadata": {},
   "outputs": [],
   "source": []
  },
  {
   "cell_type": "code",
   "execution_count": null,
   "id": "81294410-af3f-4d71-91cd-273d8c30ffbf",
   "metadata": {},
   "outputs": [],
   "source": []
  },
  {
   "cell_type": "code",
   "execution_count": null,
   "id": "83db1949-55b6-4d8b-8574-40aa0934ed4a",
   "metadata": {},
   "outputs": [],
   "source": []
  },
  {
   "cell_type": "code",
   "execution_count": null,
   "id": "50258818-6b5f-40c4-b0ca-8af3ec9a6e3f",
   "metadata": {},
   "outputs": [],
   "source": []
  },
  {
   "cell_type": "code",
   "execution_count": null,
   "id": "0175f584-864a-43ff-9b6c-760d6c737387",
   "metadata": {},
   "outputs": [],
   "source": []
  },
  {
   "cell_type": "code",
   "execution_count": null,
   "id": "3a372208-e261-44c8-a045-964533562d74",
   "metadata": {},
   "outputs": [],
   "source": []
  },
  {
   "cell_type": "code",
   "execution_count": null,
   "id": "62ee09f5-b3a8-4189-b014-62204b3ddf3e",
   "metadata": {},
   "outputs": [],
   "source": []
  },
  {
   "cell_type": "code",
   "execution_count": null,
   "id": "5ca1cc85-0c04-4ac8-9b59-10f1391870b5",
   "metadata": {},
   "outputs": [],
   "source": []
  }
 ],
 "metadata": {
  "kernelspec": {
   "display_name": "Python 3 (ipykernel)",
   "language": "python",
   "name": "python3"
  },
  "language_info": {
   "codemirror_mode": {
    "name": "ipython",
    "version": 3
   },
   "file_extension": ".py",
   "mimetype": "text/x-python",
   "name": "python",
   "nbconvert_exporter": "python",
   "pygments_lexer": "ipython3",
   "version": "3.8.18"
  }
 },
 "nbformat": 4,
 "nbformat_minor": 5
}
