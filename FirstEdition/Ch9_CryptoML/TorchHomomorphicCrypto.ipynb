{
 "cells": [
  {
   "cell_type": "code",
   "execution_count": 34,
   "id": "9f55b1dc-2f45-435b-94ca-43aa00af541f",
   "metadata": {},
   "outputs": [],
   "source": [
    "\n",
    "## !pip install tenseal\n"
   ]
  },
  {
   "cell_type": "code",
   "execution_count": 35,
   "id": "7d8103d4-b269-408e-bb96-3b01fd8c5c9e",
   "metadata": {},
   "outputs": [],
   "source": [
    "\n",
    "import torch\n",
    "import tenseal as ts\n"
   ]
  },
  {
   "cell_type": "markdown",
   "id": "0b8e035f-aa80-4b65-97fc-2f8007c543e8",
   "metadata": {},
   "source": [
    "\n",
    "## Example 1\n"
   ]
  },
  {
   "cell_type": "code",
   "execution_count": 36,
   "id": "2cb13be0-d08b-4e34-8b13-727fad61d3bb",
   "metadata": {},
   "outputs": [],
   "source": [
    "\n",
    "context = ts.context(\n",
    "            ts.SCHEME_TYPE.CKKS,\n",
    "            poly_modulus_degree=8192,\n",
    "            coeff_mod_bit_sizes=[60, 40, 40, 60]\n",
    "          )\n",
    "\n",
    "context.generate_galois_keys()\n",
    "context.global_scale = 2**40\n",
    "\n"
   ]
  },
  {
   "cell_type": "code",
   "execution_count": 37,
   "id": "9bc57a08-a3ea-47bd-a797-46b56e80cba6",
   "metadata": {},
   "outputs": [],
   "source": [
    "\n",
    "x1 = torch.tensor([1.0, 5.0, 3.0])\n",
    "x2 = torch.tensor([1.0, 5.0, 3.0])\n",
    "\n",
    "enc_x1 = ts.ckks_vector(context, x1, scale=None)\n",
    "enc_x2 = ts.ckks_vector(context, x2, scale=None)\n"
   ]
  },
  {
   "cell_type": "code",
   "execution_count": 38,
   "id": "6fdd9de3-e796-4c9c-8242-0c37c69ee2e2",
   "metadata": {},
   "outputs": [
    {
     "name": "stdout",
     "output_type": "stream",
     "text": [
      "[1.9999999956897603, 10.000000000389472, 5.999999999867201]\n"
     ]
    }
   ],
   "source": [
    "\n",
    "\n",
    "\n",
    "enc_result = enc_x1 + enc_x2\n",
    "\n",
    "res = enc_result.decrypt()\n",
    "\n",
    "print( res )\n"
   ]
  },
  {
   "cell_type": "markdown",
   "id": "fd9dcac0-4384-44b0-b3f4-4254ab08905a",
   "metadata": {},
   "source": [
    "\n",
    "## Example 2\n"
   ]
  },
  {
   "cell_type": "code",
   "execution_count": 39,
   "id": "5081f859-eb59-4e2d-9d78-011bcae59778",
   "metadata": {},
   "outputs": [],
   "source": [
    "\n",
    "a = torch.tensor(  [10]   )\n",
    "b = torch.tensor(  [32]  )\n"
   ]
  },
  {
   "cell_type": "code",
   "execution_count": 40,
   "id": "414c4591-8b0c-4f8c-a9bd-8ab3bb307cd9",
   "metadata": {},
   "outputs": [],
   "source": [
    "\n",
    "enc_a = ts.ckks_vector(context, a, scale=None)\n",
    "enc_b = ts.ckks_vector(context, b, scale=None)\n"
   ]
  },
  {
   "cell_type": "code",
   "execution_count": 41,
   "id": "969981a6-1020-4efd-9514-642a912c8e46",
   "metadata": {},
   "outputs": [
    {
     "data": {
      "text/plain": [
       "[41.99999999954856]"
      ]
     },
     "execution_count": 41,
     "metadata": {},
     "output_type": "execute_result"
    }
   ],
   "source": [
    "\n",
    "def model(a, b):\n",
    "    return a + b\n",
    "\n",
    "res = model(enc_a, enc_b)\n",
    "\n",
    "res.decrypt()\n"
   ]
  },
  {
   "cell_type": "markdown",
   "id": "42777f93-9643-4c21-a2b8-8299f6c3c965",
   "metadata": {},
   "source": [
    "\n",
    "## Example 3\n"
   ]
  },
  {
   "cell_type": "code",
   "execution_count": 42,
   "id": "ff9af669-22ef-4e9d-a987-19f7cff6fb74",
   "metadata": {},
   "outputs": [
    {
     "data": {
      "text/plain": [
       "[15.000001984804706, 27.000003594000503]"
      ]
     },
     "execution_count": 42,
     "metadata": {},
     "output_type": "execute_result"
    }
   ],
   "source": [
    "\n",
    "\n",
    "x1 = torch.tensor([1.0, 1.0, 1.0])\n",
    "\n",
    "enc_x1 = ts.ckks_vector(context, x1, scale=None)\n",
    "\n",
    "\n",
    "matrix = [\n",
    "  [5, 9],\n",
    "  [5, 9],\n",
    "  [5, 9]\n",
    "]\n",
    "\n",
    "result = enc_x1.matmul(matrix)\n",
    "\n",
    "result.decrypt() \n"
   ]
  },
  {
   "cell_type": "code",
   "execution_count": null,
   "id": "ff9b51f0-da5d-4091-909d-e78ca1fe2acb",
   "metadata": {},
   "outputs": [],
   "source": []
  },
  {
   "cell_type": "code",
   "execution_count": null,
   "id": "3be81efd-731a-415c-9cbc-b2e513f02291",
   "metadata": {},
   "outputs": [],
   "source": []
  },
  {
   "cell_type": "code",
   "execution_count": null,
   "id": "f1251b2a-6279-49ee-ae5f-849f0678c26e",
   "metadata": {},
   "outputs": [],
   "source": []
  },
  {
   "cell_type": "code",
   "execution_count": null,
   "id": "f577d569-00e7-4c03-a6d9-88678d5815d6",
   "metadata": {},
   "outputs": [],
   "source": []
  },
  {
   "cell_type": "code",
   "execution_count": null,
   "id": "4d864127-5df1-4663-beda-458a02f0bc0f",
   "metadata": {},
   "outputs": [],
   "source": []
  },
  {
   "cell_type": "code",
   "execution_count": null,
   "id": "a00f8407-a7f4-467a-8631-7c72b7fbe711",
   "metadata": {},
   "outputs": [],
   "source": []
  },
  {
   "cell_type": "code",
   "execution_count": null,
   "id": "236925cc-d74e-4388-bf1e-5cf65ec4230b",
   "metadata": {},
   "outputs": [],
   "source": []
  },
  {
   "cell_type": "code",
   "execution_count": null,
   "id": "c391286f-9d0f-4630-bc46-825892ff94e1",
   "metadata": {},
   "outputs": [],
   "source": []
  },
  {
   "cell_type": "code",
   "execution_count": null,
   "id": "f9f5cadd-444e-48d5-b9d6-02659b1c9178",
   "metadata": {},
   "outputs": [],
   "source": []
  },
  {
   "cell_type": "code",
   "execution_count": null,
   "id": "37b3b397-5d73-410c-9ffc-8b5016a0a7a0",
   "metadata": {},
   "outputs": [],
   "source": []
  },
  {
   "cell_type": "code",
   "execution_count": null,
   "id": "929d0918-1bca-4544-b931-0e4aa21ce090",
   "metadata": {},
   "outputs": [],
   "source": []
  },
  {
   "cell_type": "code",
   "execution_count": null,
   "id": "85cb263e-1145-489a-b2b0-7b3357b5ad61",
   "metadata": {},
   "outputs": [],
   "source": []
  }
 ],
 "metadata": {
  "kernelspec": {
   "display_name": "Python 3 (ipykernel)",
   "language": "python",
   "name": "python3"
  },
  "language_info": {
   "codemirror_mode": {
    "name": "ipython",
    "version": 3
   },
   "file_extension": ".py",
   "mimetype": "text/x-python",
   "name": "python",
   "nbconvert_exporter": "python",
   "pygments_lexer": "ipython3",
   "version": "3.8.18"
  }
 },
 "nbformat": 4,
 "nbformat_minor": 5
}
