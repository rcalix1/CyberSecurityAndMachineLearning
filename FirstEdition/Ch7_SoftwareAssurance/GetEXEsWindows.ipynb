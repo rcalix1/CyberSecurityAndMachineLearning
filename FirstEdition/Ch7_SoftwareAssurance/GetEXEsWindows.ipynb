{
 "cells": [
  {
   "cell_type": "code",
   "execution_count": null,
   "id": "124e13bb-51c9-4fa5-8dd0-5e7015051ced",
   "metadata": {},
   "outputs": [],
   "source": [
    "\n",
    "import os, hashlib, shutil\n"
   ]
  },
  {
   "cell_type": "code",
   "execution_count": null,
   "id": "6a956774-3cf4-4a11-b8a5-d49451c02dc8",
   "metadata": {},
   "outputs": [],
   "source": [
    "\n",
    "counter = 10\n",
    "BLOCKSIZE = 65536\n",
    "hashes = []\n"
   ]
  },
  {
   "cell_type": "code",
   "execution_count": null,
   "id": "981a9c02-5d43-40bf-943b-365787939f1f",
   "metadata": {},
   "outputs": [],
   "source": [
    "\n",
    "## On Windows \n",
    "\n",
    "PATH_TO_SAVE_FILES = 'C:\\\\Users\\\\user1\\\\Desktop\\\\malw\\\\' # The path you'd like to copy the unique files to\n"
   ]
  },
  {
   "cell_type": "code",
   "execution_count": null,
   "id": "7011cbe3-14c6-459e-a221-c3464c624480",
   "metadata": {},
   "outputs": [],
   "source": [
    "\n",
    "for r, d, f in os.walk('C:/'): # The directory you'd like to search for the .exe's\n",
    "    for file in f:\n",
    "        if(file.endswith('.exe')):\n",
    "            file_path = os.path.join(r, file)\n",
    "            try:\n",
    "                counter += 1\n",
    "                hasher = hashlib.md5()\n",
    "                with open(file_path, 'rb') as afile:\n",
    "                    while(True):\n",
    "                        buf = afile.read(BLOCKSIZE)\n",
    "                        if(not buf):\n",
    "                            break\n",
    "                        hasher.update(buf)\n",
    "                    file_hash = hasher.hexdigest()\n",
    "                    if(file_hash not in hashes):\n",
    "                        hashes.append(file_hash)\n",
    "                        shutil.copyfile(file_path, PATH_TO_SAVE_FILES+file)\n",
    "                        print('File: ', file_path, '     MD5 Hash: ', file_hash)\n",
    "                    else:\n",
    "                        print('File: ', file_path, ' has already be found\\n\\n')\n",
    "            except Exception as e:\n",
    "                print('Error occountered with file:', file_path)\n",
    "                print(e)\n",
    "                pass\n",
    "                \n",
    "print(f\"Collected {counter} files.\")\n"
   ]
  },
  {
   "cell_type": "code",
   "execution_count": null,
   "id": "dda2e56a-104c-449b-aedc-66f931398f91",
   "metadata": {},
   "outputs": [],
   "source": []
  },
  {
   "cell_type": "code",
   "execution_count": null,
   "id": "442b18ef-0534-4251-8cfd-530a1fb6d729",
   "metadata": {},
   "outputs": [],
   "source": []
  },
  {
   "cell_type": "code",
   "execution_count": null,
   "id": "47b46b2f-fda0-4792-ac1f-e573fe49f0f8",
   "metadata": {},
   "outputs": [],
   "source": []
  },
  {
   "cell_type": "code",
   "execution_count": null,
   "id": "ce06b334-0862-4adf-abb1-6b473e5ba229",
   "metadata": {},
   "outputs": [],
   "source": []
  },
  {
   "cell_type": "code",
   "execution_count": null,
   "id": "4b5d3180-f605-486d-9425-8c53d1a92890",
   "metadata": {},
   "outputs": [],
   "source": []
  },
  {
   "cell_type": "code",
   "execution_count": null,
   "id": "fd3526cc-a409-4181-8372-f17039f32530",
   "metadata": {},
   "outputs": [],
   "source": []
  },
  {
   "cell_type": "code",
   "execution_count": null,
   "id": "b24a8eba-7669-4f8c-a24b-cfc25d4e59e6",
   "metadata": {},
   "outputs": [],
   "source": []
  },
  {
   "cell_type": "code",
   "execution_count": null,
   "id": "c6db9f67-a8d8-46cc-8184-c91ef97397d7",
   "metadata": {},
   "outputs": [],
   "source": []
  },
  {
   "cell_type": "code",
   "execution_count": null,
   "id": "387e2e28-cc41-4847-9f27-4dac04b00241",
   "metadata": {},
   "outputs": [],
   "source": []
  },
  {
   "cell_type": "code",
   "execution_count": null,
   "id": "82a1cebf-9810-43c2-8a50-41af3dfa24ee",
   "metadata": {},
   "outputs": [],
   "source": []
  },
  {
   "cell_type": "code",
   "execution_count": null,
   "id": "74d50bb4-0892-40e2-855c-ae375330d33d",
   "metadata": {},
   "outputs": [],
   "source": []
  },
  {
   "cell_type": "code",
   "execution_count": null,
   "id": "20db3d0e-ec22-4a1b-82ca-4815feba0006",
   "metadata": {},
   "outputs": [],
   "source": []
  },
  {
   "cell_type": "code",
   "execution_count": null,
   "id": "7b71743b-93ce-40a7-a6eb-b839e71efdfe",
   "metadata": {},
   "outputs": [],
   "source": []
  }
 ],
 "metadata": {
  "kernelspec": {
   "display_name": "Python 3 (ipykernel)",
   "language": "python",
   "name": "python3"
  },
  "language_info": {
   "codemirror_mode": {
    "name": "ipython",
    "version": 3
   },
   "file_extension": ".py",
   "mimetype": "text/x-python",
   "name": "python",
   "nbconvert_exporter": "python",
   "pygments_lexer": "ipython3",
   "version": "3.8.19"
  }
 },
 "nbformat": 4,
 "nbformat_minor": 5
}
